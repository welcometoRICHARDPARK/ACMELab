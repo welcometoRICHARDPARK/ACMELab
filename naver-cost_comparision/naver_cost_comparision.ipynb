{
 "cells": [
  {
   "cell_type": "code",
   "execution_count": 7,
   "metadata": {},
   "outputs": [],
   "source": [
    "from bs4 import BeautifulSoup\n",
    "import urllib.request as req\n",
    "import urllib.parse as par\n",
    "from urllib.parse import quote\n",
    "\n",
    "from selenium import webdriver\n",
    "from selenium.webdriver.common.by import By\n",
    "from chromedriver_autoinstaller import install\n",
    "\n",
    "\n",
    "\n",
    "import time"
   ]
  },
  {
   "cell_type": "code",
   "execution_count": 8,
   "metadata": {},
   "outputs": [],
   "source": [
    "a = [1,2]\n",
    "a.append(3)"
   ]
  },
  {
   "cell_type": "code",
   "execution_count": 10,
   "metadata": {},
   "outputs": [],
   "source": [
    "merchandise = '삼다수'\n",
    "keyword = '2l'\n",
    "raw_query = merchandise + keyword\n",
    "query = quote(raw_query)\n",
    "url = f'https://search.shopping.naver.com/search/all?frm=NVSHMDL&iq=%EC%82%BC%EB%8B%A4%EC%88%982l&origQuery=%EC%82%BC%EB%8B%A4%EC%88%98&pagingIndex=1&pagingSize=40&productSet=model&query={query}&sort=rel&timestamp=&viewType=list'"
   ]
  },
  {
   "cell_type": "code",
   "execution_count": 11,
   "metadata": {},
   "outputs": [],
   "source": [
    "response = req.urlopen(url)\n",
    "soup = BeautifulSoup(response, 'html.parser')"
   ]
  },
  {
   "cell_type": "markdown",
   "metadata": {},
   "source": [
    "원하는 정보가 있는 위치 찾기 \n",
    "\n",
    "\n",
    "- soup.select('원하는 정보')  # select('원하는 정보') -->  단 하나만 있더라도, 복수 가능한 형태로 되어있음\n",
    "- soup.select('태그명')\n",
    "- soup.select('.클래스명')\n",
    "- soup.select('상위태그명 > 하위태그명 > 하위태그명')\n",
    "- soup.select('상위태그명.클래스명 > 하위태그명.클래스명')    # 바로 아래의(자식) 태그를 선택시에는 > 기호를 사용\n",
    "- soup.select('상위태그명.클래스명 하~위태그명')              # 아래의(자손) 태그를 선택시에는   띄어쓰기 사용\n",
    "- soup.select('상위태그명 > 바로아래태그명 하~위태그명')     \n",
    "- soup.select('.클래스명')\n",
    "- soup.select('#아이디명')                  # 태그는 여러개에 사용 가능하나 아이디는 한번만 사용 가능함! ==> 선택하기 좋음\n",
    "- soup.select('태그명.클래스명)\n",
    "- soup.select('#아이디명 > 태그명.클래스명)\n",
    "- soup.select('태그명[속성1=값1]')"
   ]
  },
  {
   "cell_type": "code",
   "execution_count": 12,
   "metadata": {},
   "outputs": [],
   "source": [
    "test = soup.select('.basicList_title__3P9Q7 > .basicList_link__1MaTN')"
   ]
  },
  {
   "cell_type": "code",
   "execution_count": 13,
   "metadata": {},
   "outputs": [
    {
     "data": {
      "text/plain": [
       "5"
      ]
     },
     "execution_count": 13,
     "metadata": {},
     "output_type": "execute_result"
    }
   ],
   "source": [
    "len(soup.select('.basicList_title__3P9Q7 > .basicList_link__1MaTN'))"
   ]
  },
  {
   "cell_type": "code",
   "execution_count": 14,
   "metadata": {},
   "outputs": [],
   "source": [
    "title1 = soup.select('.basicList_title__3P9Q7 > .basicList_link__1MaTN')[0]"
   ]
  },
  {
   "cell_type": "code",
   "execution_count": 15,
   "metadata": {},
   "outputs": [
    {
     "data": {
      "text/plain": [
       "'제주특별자치도개발공사 삼다수 2L'"
      ]
     },
     "execution_count": 15,
     "metadata": {},
     "output_type": "execute_result"
    }
   ],
   "source": [
    "title1['title']"
   ]
  },
  {
   "cell_type": "code",
   "execution_count": 16,
   "metadata": {},
   "outputs": [],
   "source": [
    "title = soup.select('.basicList_title__3P9Q7 > .basicList_link__1MaTN')[0]['href']"
   ]
  },
  {
   "cell_type": "code",
   "execution_count": 17,
   "metadata": {},
   "outputs": [],
   "source": [
    "test_1 = soup.select('.basicList_title__3P9Q7 > .basicList_link__1MaTN')"
   ]
  },
  {
   "cell_type": "code",
   "execution_count": 18,
   "metadata": {},
   "outputs": [
    {
     "data": {
      "text/plain": [
       "[<a class=\"basicList_link__1MaTN\" data-nclick=\"N=a:lst*C.title,i:5638876776,r:1\" href=\"https://cr.shopping.naver.com/adcr.nhn?x=w3Dznn%2F1lhaS4ak2pJ75DP%2F%2F%2Fw%3D%3DsXx9G6gJNNNT4zCkr4f5r5XzPUTFm4OY%2Fs70Zglb1IEjUvtcO%2BX3mdUh6r3AuhbhCNQ0qYXyQRV5cmrentxIsGyn5MBWy%2B%2FMIdHaXRT6iM%2F7VBV0%2FIc%2BtGP1NDahqxwkPFfPZNia0sAjrVbOIl0vXI99%2BKy%2Fm0d%2BgYWHtEf61Jo5CNclKwvLyA%2Fys%2F%2FHPPajLy4AAAQh0NQTTo3GkUia8r6tn03WzirI1AjLnSi861fOFssNP6D3pJwzDKKbuzEiUS5klhbdWGAChsq8JzNBXEauKWQN4b7WstTXVRp4V%2Fd2Kx7G3krbJiQXzryuwwOqJntfUl7TQTzbuLq%2FHOdZt%2F7De8AbTnTL7Avzzjq9xb3z1QQzCLreNp8sjPDBjStixHC8iBnrlq1zGgNQ4d%2FyYXlunN6Qj50oATEcvM8%2F49l8LSv5SYzis5SVdiBAX6a8Rdm7jQIca%2BQFyMekj97pxucQyTQuWkgailzCwFg3GfeEW8kyINQQdghnBP6lk1ww%2BvmdqfLUad7DwBbtq29MG20Z0ZvuBE4%2BhLZWkgE7ov7yUfo%2FHMSydkcaKLE6eSfWgY7RBJx2aPv1bgiR77Jh46w1QmAmnoJRdq4K9btjkCM0%3D&amp;nvMid=5638876776&amp;catId=50002032\" rel=\"noopener\" target=\"_blank\" title=\"제주특별자치도개발공사 삼다수 2L\">제주특별자치도개발공사 삼다수 2L</a>,\n",
       " <a class=\"basicList_link__1MaTN\" data-nclick=\"N=a:lst*C.title,i:27965424524,r:2\" href=\"https://cr.shopping.naver.com/adcr.nhn?x=P38J4UfrL9hHYd709FT%2BLf%2F%2F%2Fw%3D%3DseGsAFON8%2F4HKLviAdS7c0zpT2pk0fDc0Ee3kj11BwSPUvtcO%2BX3mdUh6r3AuhbhCQ36alwanednff5k1ZRX9Pa6UromxbPThgclp7gfrimwg6aqkonncfwwdFfoW7jgOx5j1IY193Ugmc1gDKmLzK0Pg%2F6PYJW9LpCSumzPJoiiI9aZyW4hhCgmcrsQhWGWGO9E5dvomCErpmktKnAHWR6tn03WzirI1AjLnSi861fOFssNP6D3pJwzDKKbuzEiUS5klhbdWGAChsq8JzNBXEauKWQN4b7WstTXVRp4V%2Fd2Kx7G3krbJiQXzryuwwOqJF%2FdGAts1rZB7ALqQNRIO4Z3gCM%2FW7LPn54%2BTLeDN6AdKjRp2D9pkBhcJdqPQCXkTSwiH5yNG0Kncbo%2FqjVZE5FFj8PUmZhOfEfMJGG8WwyoLSv5SYzis5SVdiBAX6a8RD7FB2eq2qMbjAiqhCKQAHA0c7PsBbgiFzqLw17yV9tfdygbMhOHZGVLoF2JsE3AA9CdMpcJvE%2F1TwmJXoRyt3ZaicFZqA2hICiU%2FPq%2BbDkcSzxwVRNV%2FYRemZK5z1sCEcnaxQijBxpJ0b%2B17QqOlmu6MIXwuuvPd6YZ82%2FjhSPNoaKZHilHbuauHUigNM5KA&amp;nvMid=27965424524&amp;catId=50002032\" rel=\"noopener\" target=\"_blank\" title=\"제주특별자치도개발공사 삼다수 무라벨 그린생수 2L\">제주특별자치도개발공사 삼다수 무라벨 그린생수 2L</a>,\n",
       " <a class=\"basicList_link__1MaTN\" data-nclick=\"N=a:lst*C.title,i:27328003523,r:3\" href=\"https://cr.shopping.naver.com/adcr.nhn?x=5SNCHbClh50%2B3Pi6mFBlzf%2F%2F%2Fw%3D%3Dsrvxf6iAH%2B2xDw4lhl1B17oYV0ROtwxhFddXQ09IJ0QDUvtcO%2BX3mdUh6r3AuhbhC7IjNtCP8r%2FbTT5ZL1NZX5a6UromxbPThgclp7gfrimwg6aqkonncfwwdFfoW7jgOx5j1IY193Ugmc1gDKmLzK0Pg%2F6PYJW9LpCSumzPJoiiI9aZyW4hhCgmcrsQhWGWG8oF8mm%2BUFnoPC7i3dPwCYatn03WzirI1AjLnSi861fOFssNP6D3pJwzDKKbuzEiUS5klhbdWGAChsq8JzNBXEauKWQN4b7WstTXVRp4V%2Fd2Kx7G3krbJiQXzryuwwOqJXhb13g6c8bCcOpg%2FVlAV5oQS8NTUGYzp50OUnak9mkdKjRp2D9pkBhcJdqPQCXkT8yOjHqMvHSrxKPmdQeGwtI5ftcCDvrisix6wGeUHQmgLSv5SYzis5SVdiBAX6a8RDTJs%2BVE%2FmCL4Je1iwWr11N%2FjyfIUONdFSf7Cgor3EOC7A%2F0vSPti8cHY4o2fastw0l%2F8RlTJsl94DzZmwXWYf8HTT%2BQtJ9R6Nm3prcn27%2FrIP1IdXPFHvVaOW%2BaBr86v1KnWjN3FBNznttk8aodhkLomOXq8ngsWDnDR%2FMhxXDlB0CIl3BeKsFF2drF%2B%2BsFv&amp;nvMid=27328003523&amp;catId=50007303\" rel=\"noopener\" target=\"_blank\" title=\"이마트24 광동 삼다수2L\">이마트24 광동 삼다수2L</a>,\n",
       " <a class=\"basicList_link__1MaTN\" data-nclick=\"N=a:lst*C.title,i:27888628529,r:4\" href=\"https://cr.shopping.naver.com/adcr.nhn?x=29VoeFdYJjktXIYkL9rWJf%2F%2F%2Fw%3D%3Dsmr%2FRGguKrUBu0bz7qSIaGDjL%2Bb%2BBw2s87pamhB63747m0kgyFhl118UgBwIOL97x2Lu5TKH%2BFROjPcU3n7VJglXfcqW9IUHiRsMD5wwVf6%2FX7E61I436MrFmn%2BfwHKH8Ib50b6CVCh3bD1U0hU%2BpXcOmY27ZGze0Q%2BtXRlM4OxtFSICBvI1ATDFN58yC%2Fe2xVDPcd1e5U1nueHUG6L6Ub%2BJqodzubnreGIhp8MZNj2fyOcS%2FYZgUhggRbOJjaHAJTRagLoDvzovU9XuFg9b4VasJF1TG8DXvuOXRWh2aiSE1QmeK3ZPITzKHcbEnR%2BI8x6mQELHmkbv1bxdy6wiRCAraBStI9f0hARodQBLyu45t%2Bm725HIATn9oOMh8MnWcrLODLVYOQ9571GIFY%2Fxn3Aou8xaazlbGUt3wFkWM7%2FGkMvf0GfKWNO7Ss45sls8t3lyvzQzCGS%2B1PpGS6XRwl9owdEPY4tF5Woc3yetliWBVm3UvIGT1kVItWi9EfmthHvF1lfFIgUBMSyxWlI6gKKFhn%2BEj%2BQ3ziN7qT%2F5t%2FJfArki%2B%2B5cFDIENk4r4hAi33C%2BBUrAWiQUKESC5qdhTRcsTe7KMH92wbM0zhTUMbwkNUJgJp6CUXauCvW7Y5AjN&amp;nvMid=27888628529&amp;catId=50007303\" rel=\"noopener\" target=\"_blank\" title=\"GS25 광동 제주삼다수 2L\">GS25 광동 제주삼다수 2L</a>,\n",
       " <a class=\"basicList_link__1MaTN\" data-nclick=\"N=a:lst*C.title,i:32633514521,r:5\" href=\"https://cr.shopping.naver.com/adcr.nhn?x=L2WwimrmGuJ8BtMPg6vPY%2F%2F%2F%2Fw%3D%3Ds%2B2eCWRJI4EihRNtotk6Ow1nu8BcwEtzp2K4AR7bKIR3UvtcO%2BX3mdUh6r3AuhbhCMA9zOvYsAC6Z3HyIY4tu2K6UromxbPThgclp7gfrimwg6aqkonncfwwdFfoW7jgOx5j1IY193Ugmc1gDKmLzK0Pg%2F6PYJW9LpCSumzPJoiiI9aZyW4hhCgmcrsQhWGWGHSQ85m%2B4A1ggcgSjERSph6tn03WzirI1AjLnSi861fOFssNP6D3pJwzDKKbuzEiUS5klhbdWGAChsq8JzNBXEauKWQN4b7WstTXVRp4V%2Fd2Kx7G3krbJiQXzryuwwOqJcKNyHt%2FsN9RZXKuCPm3yWHVsv6Gd%2FNCupWQFpiZjXzxKjRp2D9pkBhcJdqPQCXkTeth42ah2Hkd%2BC8R8d5ObCTCr6qv3msUYrHdypKF%2Bv9sLSv5SYzis5SVdiBAX6a8RYLcbPM3mucsOfgc8WzznGIPqOEpdKSof9lWeiZGJgM43d%2BGT5FijRGq%2BP7xAqaUA9EjBFeStZoWtF%2FWXQ9hByo6%2F74bs%2FzNmznhIO5N5zjU2BxBrbbAofeAxbX6Lb%2Bx55QOOl24BpBZgrQSJsjyGK8tVYavx%2B%2B8fWZa9SBc8rqM%3D&amp;nvMid=32633514521&amp;catId=50001304\" rel=\"noopener\" target=\"_blank\" title=\"삼다수 무라벨 2l 6병\">삼다수 무라벨 2l 6병</a>]"
      ]
     },
     "execution_count": 18,
     "metadata": {},
     "output_type": "execute_result"
    }
   ],
   "source": [
    "test_1"
   ]
  },
  {
   "cell_type": "code",
   "execution_count": 19,
   "metadata": {},
   "outputs": [
    {
     "name": "stdout",
     "output_type": "stream",
     "text": [
      "{'title': '제주특별자치도개발공사 삼다수 2L', 'link': 'https://cr.shopping.naver.com/adcr.nhn?x=w3Dznn%2F1lhaS4ak2pJ75DP%2F%2F%2Fw%3D%3DsXx9G6gJNNNT4zCkr4f5r5XzPUTFm4OY%2Fs70Zglb1IEjUvtcO%2BX3mdUh6r3AuhbhCNQ0qYXyQRV5cmrentxIsGyn5MBWy%2B%2FMIdHaXRT6iM%2F7VBV0%2FIc%2BtGP1NDahqxwkPFfPZNia0sAjrVbOIl0vXI99%2BKy%2Fm0d%2BgYWHtEf61Jo5CNclKwvLyA%2Fys%2F%2FHPPajLy4AAAQh0NQTTo3GkUia8r6tn03WzirI1AjLnSi861fOFssNP6D3pJwzDKKbuzEiUS5klhbdWGAChsq8JzNBXEauKWQN4b7WstTXVRp4V%2Fd2Kx7G3krbJiQXzryuwwOqJntfUl7TQTzbuLq%2FHOdZt%2F7De8AbTnTL7Avzzjq9xb3z1QQzCLreNp8sjPDBjStixHC8iBnrlq1zGgNQ4d%2FyYXlunN6Qj50oATEcvM8%2F49l8LSv5SYzis5SVdiBAX6a8Rdm7jQIca%2BQFyMekj97pxucQyTQuWkgailzCwFg3GfeEW8kyINQQdghnBP6lk1ww%2BvmdqfLUad7DwBbtq29MG20Z0ZvuBE4%2BhLZWkgE7ov7yUfo%2FHMSydkcaKLE6eSfWgY7RBJx2aPv1bgiR77Jh46w1QmAmnoJRdq4K9btjkCM0%3D&nvMid=5638876776&catId=50002032'}\n",
      "{'title': '제주특별자치도개발공사 삼다수 무라벨 그린생수 2L', 'link': 'https://cr.shopping.naver.com/adcr.nhn?x=P38J4UfrL9hHYd709FT%2BLf%2F%2F%2Fw%3D%3DseGsAFON8%2F4HKLviAdS7c0zpT2pk0fDc0Ee3kj11BwSPUvtcO%2BX3mdUh6r3AuhbhCQ36alwanednff5k1ZRX9Pa6UromxbPThgclp7gfrimwg6aqkonncfwwdFfoW7jgOx5j1IY193Ugmc1gDKmLzK0Pg%2F6PYJW9LpCSumzPJoiiI9aZyW4hhCgmcrsQhWGWGO9E5dvomCErpmktKnAHWR6tn03WzirI1AjLnSi861fOFssNP6D3pJwzDKKbuzEiUS5klhbdWGAChsq8JzNBXEauKWQN4b7WstTXVRp4V%2Fd2Kx7G3krbJiQXzryuwwOqJF%2FdGAts1rZB7ALqQNRIO4Z3gCM%2FW7LPn54%2BTLeDN6AdKjRp2D9pkBhcJdqPQCXkTSwiH5yNG0Kncbo%2FqjVZE5FFj8PUmZhOfEfMJGG8WwyoLSv5SYzis5SVdiBAX6a8RD7FB2eq2qMbjAiqhCKQAHA0c7PsBbgiFzqLw17yV9tfdygbMhOHZGVLoF2JsE3AA9CdMpcJvE%2F1TwmJXoRyt3ZaicFZqA2hICiU%2FPq%2BbDkcSzxwVRNV%2FYRemZK5z1sCEcnaxQijBxpJ0b%2B17QqOlmu6MIXwuuvPd6YZ82%2FjhSPNoaKZHilHbuauHUigNM5KA&nvMid=27965424524&catId=50002032'}\n",
      "{'title': '이마트24 광동 삼다수2L', 'link': 'https://cr.shopping.naver.com/adcr.nhn?x=5SNCHbClh50%2B3Pi6mFBlzf%2F%2F%2Fw%3D%3Dsrvxf6iAH%2B2xDw4lhl1B17oYV0ROtwxhFddXQ09IJ0QDUvtcO%2BX3mdUh6r3AuhbhC7IjNtCP8r%2FbTT5ZL1NZX5a6UromxbPThgclp7gfrimwg6aqkonncfwwdFfoW7jgOx5j1IY193Ugmc1gDKmLzK0Pg%2F6PYJW9LpCSumzPJoiiI9aZyW4hhCgmcrsQhWGWG8oF8mm%2BUFnoPC7i3dPwCYatn03WzirI1AjLnSi861fOFssNP6D3pJwzDKKbuzEiUS5klhbdWGAChsq8JzNBXEauKWQN4b7WstTXVRp4V%2Fd2Kx7G3krbJiQXzryuwwOqJXhb13g6c8bCcOpg%2FVlAV5oQS8NTUGYzp50OUnak9mkdKjRp2D9pkBhcJdqPQCXkT8yOjHqMvHSrxKPmdQeGwtI5ftcCDvrisix6wGeUHQmgLSv5SYzis5SVdiBAX6a8RDTJs%2BVE%2FmCL4Je1iwWr11N%2FjyfIUONdFSf7Cgor3EOC7A%2F0vSPti8cHY4o2fastw0l%2F8RlTJsl94DzZmwXWYf8HTT%2BQtJ9R6Nm3prcn27%2FrIP1IdXPFHvVaOW%2BaBr86v1KnWjN3FBNznttk8aodhkLomOXq8ngsWDnDR%2FMhxXDlB0CIl3BeKsFF2drF%2B%2BsFv&nvMid=27328003523&catId=50007303'}\n",
      "{'title': 'GS25 광동 제주삼다수 2L', 'link': 'https://cr.shopping.naver.com/adcr.nhn?x=29VoeFdYJjktXIYkL9rWJf%2F%2F%2Fw%3D%3Dsmr%2FRGguKrUBu0bz7qSIaGDjL%2Bb%2BBw2s87pamhB63747m0kgyFhl118UgBwIOL97x2Lu5TKH%2BFROjPcU3n7VJglXfcqW9IUHiRsMD5wwVf6%2FX7E61I436MrFmn%2BfwHKH8Ib50b6CVCh3bD1U0hU%2BpXcOmY27ZGze0Q%2BtXRlM4OxtFSICBvI1ATDFN58yC%2Fe2xVDPcd1e5U1nueHUG6L6Ub%2BJqodzubnreGIhp8MZNj2fyOcS%2FYZgUhggRbOJjaHAJTRagLoDvzovU9XuFg9b4VasJF1TG8DXvuOXRWh2aiSE1QmeK3ZPITzKHcbEnR%2BI8x6mQELHmkbv1bxdy6wiRCAraBStI9f0hARodQBLyu45t%2Bm725HIATn9oOMh8MnWcrLODLVYOQ9571GIFY%2Fxn3Aou8xaazlbGUt3wFkWM7%2FGkMvf0GfKWNO7Ss45sls8t3lyvzQzCGS%2B1PpGS6XRwl9owdEPY4tF5Woc3yetliWBVm3UvIGT1kVItWi9EfmthHvF1lfFIgUBMSyxWlI6gKKFhn%2BEj%2BQ3ziN7qT%2F5t%2FJfArki%2B%2B5cFDIENk4r4hAi33C%2BBUrAWiQUKESC5qdhTRcsTe7KMH92wbM0zhTUMbwkNUJgJp6CUXauCvW7Y5AjN&nvMid=27888628529&catId=50007303'}\n",
      "{'title': '삼다수 무라벨 2l 6병', 'link': 'https://cr.shopping.naver.com/adcr.nhn?x=L2WwimrmGuJ8BtMPg6vPY%2F%2F%2F%2Fw%3D%3Ds%2B2eCWRJI4EihRNtotk6Ow1nu8BcwEtzp2K4AR7bKIR3UvtcO%2BX3mdUh6r3AuhbhCMA9zOvYsAC6Z3HyIY4tu2K6UromxbPThgclp7gfrimwg6aqkonncfwwdFfoW7jgOx5j1IY193Ugmc1gDKmLzK0Pg%2F6PYJW9LpCSumzPJoiiI9aZyW4hhCgmcrsQhWGWGHSQ85m%2B4A1ggcgSjERSph6tn03WzirI1AjLnSi861fOFssNP6D3pJwzDKKbuzEiUS5klhbdWGAChsq8JzNBXEauKWQN4b7WstTXVRp4V%2Fd2Kx7G3krbJiQXzryuwwOqJcKNyHt%2FsN9RZXKuCPm3yWHVsv6Gd%2FNCupWQFpiZjXzxKjRp2D9pkBhcJdqPQCXkTeth42ah2Hkd%2BC8R8d5ObCTCr6qv3msUYrHdypKF%2Bv9sLSv5SYzis5SVdiBAX6a8RYLcbPM3mucsOfgc8WzznGIPqOEpdKSof9lWeiZGJgM43d%2BGT5FijRGq%2BP7xAqaUA9EjBFeStZoWtF%2FWXQ9hByo6%2F74bs%2FzNmznhIO5N5zjU2BxBrbbAofeAxbX6Lb%2Bx55QOOl24BpBZgrQSJsjyGK8tVYavx%2B%2B8fWZa9SBc8rqM%3D&nvMid=32633514521&catId=50001304'}\n"
     ]
    }
   ],
   "source": [
    "search_results = soup.select('.basicList_title__3P9Q7 > .basicList_link__1MaTN')\n",
    "search_results_list = []\n",
    "\n",
    "for idx in range(len(search_results)) :\n",
    "    search_results_dict = {}\n",
    "    search_results_dict['title'] = soup.select('.basicList_title__3P9Q7 > .basicList_link__1MaTN')[idx]['title']\n",
    "    search_results_dict['link'] = soup.select('.basicList_title__3P9Q7 > .basicList_link__1MaTN')[idx]['href']\n",
    "    print(search_results_dict)\n",
    "    search_results_list.append(search_results_dict)\n",
    "\n"
   ]
  },
  {
   "cell_type": "code",
   "execution_count": 20,
   "metadata": {},
   "outputs": [
    {
     "data": {
      "text/plain": [
       "5"
      ]
     },
     "execution_count": 20,
     "metadata": {},
     "output_type": "execute_result"
    }
   ],
   "source": [
    "len(search_results_list)"
   ]
  },
  {
   "cell_type": "code",
   "execution_count": 21,
   "metadata": {},
   "outputs": [
    {
     "data": {
      "text/plain": [
       "'https://cr.shopping.naver.com/adcr.nhn?x=L2WwimrmGuJ8BtMPg6vPY%2F%2F%2F%2Fw%3D%3Ds%2B2eCWRJI4EihRNtotk6Ow1nu8BcwEtzp2K4AR7bKIR3UvtcO%2BX3mdUh6r3AuhbhCMA9zOvYsAC6Z3HyIY4tu2K6UromxbPThgclp7gfrimwg6aqkonncfwwdFfoW7jgOx5j1IY193Ugmc1gDKmLzK0Pg%2F6PYJW9LpCSumzPJoiiI9aZyW4hhCgmcrsQhWGWGHSQ85m%2B4A1ggcgSjERSph6tn03WzirI1AjLnSi861fOFssNP6D3pJwzDKKbuzEiUS5klhbdWGAChsq8JzNBXEauKWQN4b7WstTXVRp4V%2Fd2Kx7G3krbJiQXzryuwwOqJcKNyHt%2FsN9RZXKuCPm3yWHVsv6Gd%2FNCupWQFpiZjXzxKjRp2D9pkBhcJdqPQCXkTeth42ah2Hkd%2BC8R8d5ObCTCr6qv3msUYrHdypKF%2Bv9sLSv5SYzis5SVdiBAX6a8RYLcbPM3mucsOfgc8WzznGIPqOEpdKSof9lWeiZGJgM43d%2BGT5FijRGq%2BP7xAqaUA9EjBFeStZoWtF%2FWXQ9hByo6%2F74bs%2FzNmznhIO5N5zjU2BxBrbbAofeAxbX6Lb%2Bx55QOOl24BpBZgrQSJsjyGK8tVYavx%2B%2B8fWZa9SBc8rqM%3D&nvMid=32633514521&catId=50001304'"
      ]
     },
     "execution_count": 21,
     "metadata": {},
     "output_type": "execute_result"
    }
   ],
   "source": [
    "search_results_list[4]['link']"
   ]
  },
  {
   "cell_type": "code",
   "execution_count": 22,
   "metadata": {},
   "outputs": [],
   "source": [
    "child_url = search_results_list[4]['link']\n",
    "child_response = req.urlopen(child_url)\n",
    "child_soup = BeautifulSoup(child_response, 'html.parser')"
   ]
  },
  {
   "cell_type": "code",
   "execution_count": 23,
   "metadata": {},
   "outputs": [],
   "source": [
    "# child_soup"
   ]
  },
  {
   "cell_type": "code",
   "execution_count": 24,
   "metadata": {},
   "outputs": [],
   "source": [
    "test = child_soup.select('.productList_value__XRe6h')"
   ]
  },
  {
   "cell_type": "code",
   "execution_count": 25,
   "metadata": {},
   "outputs": [
    {
     "data": {
      "text/plain": [
       "[<a class=\"productList_value__XRe6h\" data-evcr=\"evcr\" data-i=\"84245142072\" data-ms=\"4032069\" data-nclick=\"N=a:prc*l.prc,i:84245142072,r:1\" data-t=\"PROD\" href=\"https://cr.shopping.naver.com/adcr.nhn?x=Y6tQ%2Fo4eRHrq%2B%2FSOL7EqG%2F%2F%2F%2Fw%3D%3Dsdsq7Sl4Vgizf3ERGhxt99AZeqP3hvWtthTDJCZ1uNATOARqrcyYBIVmg7YdxNer8c0VUc1LfY18hTukEUkYSd68Xf519mv0ww09tF6FzDWBbWXFNxTxjX76YUD0uCoMewMrX5jLktokBLwgqqFwjmjaSZny%2B1MgSfJG5ocTRQNj1rIvubP2%2F%2BNF2sTRY2hEVz8mL%2FI656zEEV7gMFnmTV00WoC6A786L1PV7hYPW%2BFWrCRdUxvA177jl0VodmokhA4ngWLwD1eOq0sUfCk5av0fWeIBxWhqpKu3zTZkLY9Jn8maf%2FPS%2FJ2zM%2FL8N4tZxbL1WVnno0CqrAtHSk2PhrhZ4EZ6%2BPOZxupyORIl8UrKjYC5DS7Jvji53fKsmwlUr9E1o01N70KHVTV0%2FSKghk16qF7m%2B10BhNsX1C7tcBKKADOQywR%2FGvIuGJPqVxnXOnlL8JzCYxBP4g46Lo%2FlGo7dniEGMWBvG4As4A%2FC4lT6Yxq0aAG5J%2F4d8xbZKqEhKdcL1%2FFer4XyDh1sCxS1MX6yo%2FTxPmVL5GqLEnaFl%2FeiVMMM7dchDnj9ohQXSHXwcAaEbW4Fs%2BU49OFOHC3WkNSV0hZbHqiW%2Fg%2FctbmnUxO4%3D&amp;nvMid=84245142072&amp;catId=50001304\" target=\"_blank\"><span><em>22,740</em>원</span></a>,\n",
       " <a class=\"productList_value__XRe6h\" data-evcr=\"evcr\" data-i=\"84134455922\" data-ms=\"652697\" data-nclick=\"N=a:prc*l.prc,i:84134455922,r:2\" data-t=\"PROD\" href=\"https://cr.shopping.naver.com/adcr.nhn?x=14kuVkoy%2BxMYA3wer7oUhf%2F%2F%2Fw%3D%3DsBI%2BOQZklK1se0QgJwhZ%2Blzz7X3fNd8olalmh%2BlxccqbUvtcO%2BX3mdUh6r3AuhbhCQpVjvlg34qvuDVrZlORfMPU3wM8zFmDoR5NXcuBlu7fG0Jy0bWOdGxh%2BKCgvkJhWmD0UH%2FS8Lmv6clQIZwl3CbuVw3GdaDAvxDSjC3cnt2Z%2F22ms%2BW8TiQQNz%2FOHMMFFmnIr1pX9oMzgUKRWeWUsGXCPr4%2B7yFBLTfQt%2B17tFa5D4P%2Bj2CVvS6QkrpszyaIo1uqkjq3U3bORnpK3uzkyckul0Ds%2Bnrz%2BuMcgXcx%2BiOe28Q27Zn4r%2BBt1a8G8p%2B%2FCvLF4Ukb2dCdZEKlysEKwIC4aw3NwubPAy%2BLwzVvAIHo8OPj4kysZNdYLt%2FI69jQ2jB5%2BwQwTWqlzZqCmwHkzLzyKu6OcboXQtH%2BG3WOkl0Ts0SLEHUJidladIlDaUjC2p1Fpxjl80XNGbvuUN4JJ4iQ2PVI2jAIfPUEuH%2F9P0riXRrRTP%2Bt1Jd077ujZB%2Bsz3L8CjErXaEFD%2B7th7K3KS869C1ExeQLSjmPXTwsePs6GIZEs69%2FJTl8QJxww9j4q74r316BZZBUi%2BGgQroo1CA%3D%3D&amp;nvMid=84134455922&amp;catId=50001304\" target=\"_blank\"><span><em>22,740</em>원</span></a>]"
      ]
     },
     "execution_count": 25,
     "metadata": {},
     "output_type": "execute_result"
    }
   ],
   "source": [
    "test"
   ]
  },
  {
   "cell_type": "code",
   "execution_count": 26,
   "metadata": {},
   "outputs": [],
   "source": [
    "vendorName_membership = child_soup.find('a','productList_mall_link__1-Q4X').children"
   ]
  },
  {
   "cell_type": "code",
   "execution_count": 27,
   "metadata": {},
   "outputs": [],
   "source": [
    "vendor, membership = vendorName_membership"
   ]
  },
  {
   "cell_type": "code",
   "execution_count": 28,
   "metadata": {},
   "outputs": [
    {
     "data": {
      "text/plain": [
       "'로켓공구'"
      ]
     },
     "metadata": {},
     "output_type": "display_data"
    },
    {
     "data": {
      "text/plain": [
       "'네이버플러스멤버십'"
      ]
     },
     "metadata": {},
     "output_type": "display_data"
    }
   ],
   "source": [
    "display(vendor.text)\n",
    "display(membership.text)"
   ]
  },
  {
   "cell_type": "code",
   "execution_count": 29,
   "metadata": {},
   "outputs": [],
   "source": [
    "# 배송비 포함 가격 \n",
    "price_with_delivery_fee = child_soup.find('a','productList_value__XRe6h').children"
   ]
  },
  {
   "cell_type": "code",
   "execution_count": 30,
   "metadata": {},
   "outputs": [],
   "source": [
    "a = child_soup.select('.productList_value__XRe6h')"
   ]
  },
  {
   "cell_type": "code",
   "execution_count": 31,
   "metadata": {},
   "outputs": [
    {
     "data": {
      "text/plain": [
       "[<a class=\"productList_value__XRe6h\" data-evcr=\"evcr\" data-i=\"84245142072\" data-ms=\"4032069\" data-nclick=\"N=a:prc*l.prc,i:84245142072,r:1\" data-t=\"PROD\" href=\"https://cr.shopping.naver.com/adcr.nhn?x=Y6tQ%2Fo4eRHrq%2B%2FSOL7EqG%2F%2F%2F%2Fw%3D%3Dsdsq7Sl4Vgizf3ERGhxt99AZeqP3hvWtthTDJCZ1uNATOARqrcyYBIVmg7YdxNer8c0VUc1LfY18hTukEUkYSd68Xf519mv0ww09tF6FzDWBbWXFNxTxjX76YUD0uCoMewMrX5jLktokBLwgqqFwjmjaSZny%2B1MgSfJG5ocTRQNj1rIvubP2%2F%2BNF2sTRY2hEVz8mL%2FI656zEEV7gMFnmTV00WoC6A786L1PV7hYPW%2BFWrCRdUxvA177jl0VodmokhA4ngWLwD1eOq0sUfCk5av0fWeIBxWhqpKu3zTZkLY9Jn8maf%2FPS%2FJ2zM%2FL8N4tZxbL1WVnno0CqrAtHSk2PhrhZ4EZ6%2BPOZxupyORIl8UrKjYC5DS7Jvji53fKsmwlUr9E1o01N70KHVTV0%2FSKghk16qF7m%2B10BhNsX1C7tcBKKADOQywR%2FGvIuGJPqVxnXOnlL8JzCYxBP4g46Lo%2FlGo7dniEGMWBvG4As4A%2FC4lT6Yxq0aAG5J%2F4d8xbZKqEhKdcL1%2FFer4XyDh1sCxS1MX6yo%2FTxPmVL5GqLEnaFl%2FeiVMMM7dchDnj9ohQXSHXwcAaEbW4Fs%2BU49OFOHC3WkNSV0hZbHqiW%2Fg%2FctbmnUxO4%3D&amp;nvMid=84245142072&amp;catId=50001304\" target=\"_blank\"><span><em>22,740</em>원</span></a>,\n",
       " <a class=\"productList_value__XRe6h\" data-evcr=\"evcr\" data-i=\"84134455922\" data-ms=\"652697\" data-nclick=\"N=a:prc*l.prc,i:84134455922,r:2\" data-t=\"PROD\" href=\"https://cr.shopping.naver.com/adcr.nhn?x=14kuVkoy%2BxMYA3wer7oUhf%2F%2F%2Fw%3D%3DsBI%2BOQZklK1se0QgJwhZ%2Blzz7X3fNd8olalmh%2BlxccqbUvtcO%2BX3mdUh6r3AuhbhCQpVjvlg34qvuDVrZlORfMPU3wM8zFmDoR5NXcuBlu7fG0Jy0bWOdGxh%2BKCgvkJhWmD0UH%2FS8Lmv6clQIZwl3CbuVw3GdaDAvxDSjC3cnt2Z%2F22ms%2BW8TiQQNz%2FOHMMFFmnIr1pX9oMzgUKRWeWUsGXCPr4%2B7yFBLTfQt%2B17tFa5D4P%2Bj2CVvS6QkrpszyaIo1uqkjq3U3bORnpK3uzkyckul0Ds%2Bnrz%2BuMcgXcx%2BiOe28Q27Zn4r%2BBt1a8G8p%2B%2FCvLF4Ukb2dCdZEKlysEKwIC4aw3NwubPAy%2BLwzVvAIHo8OPj4kysZNdYLt%2FI69jQ2jB5%2BwQwTWqlzZqCmwHkzLzyKu6OcboXQtH%2BG3WOkl0Ts0SLEHUJidladIlDaUjC2p1Fpxjl80XNGbvuUN4JJ4iQ2PVI2jAIfPUEuH%2F9P0riXRrRTP%2Bt1Jd077ujZB%2Bsz3L8CjErXaEFD%2B7th7K3KS869C1ExeQLSjmPXTwsePs6GIZEs69%2FJTl8QJxww9j4q74r316BZZBUi%2BGgQroo1CA%3D%3D&amp;nvMid=84134455922&amp;catId=50001304\" target=\"_blank\"><span><em>22,740</em>원</span></a>]"
      ]
     },
     "execution_count": 31,
     "metadata": {},
     "output_type": "execute_result"
    }
   ],
   "source": [
    "a"
   ]
  },
  {
   "cell_type": "code",
   "execution_count": 32,
   "metadata": {},
   "outputs": [
    {
     "name": "stdout",
     "output_type": "stream",
     "text": [
      "22,740원\n"
     ]
    }
   ],
   "source": [
    "for i in price_with_delivery_fee:\n",
    "    print(i.text)"
   ]
  },
  {
   "cell_type": "code",
   "execution_count": 33,
   "metadata": {},
   "outputs": [],
   "source": [
    "# 배송비 미포함 가격 -> 배송비가 무료일수 있다. \n",
    "price_without_delivery_fee = child_soup.find('a', 'productList_low__1Rb_J')\n",
    "delivery_fee = child_soup.find('div', 'productList_delivery__2BusJ').children"
   ]
  },
  {
   "cell_type": "code",
   "execution_count": 34,
   "metadata": {},
   "outputs": [
    {
     "name": "stdout",
     "output_type": "stream",
     "text": [
      "무료배송\n"
     ]
    }
   ],
   "source": [
    "for i in delivery_fee:\n",
    "    print(i.text)"
   ]
  },
  {
   "cell_type": "code",
   "execution_count": 44,
   "metadata": {},
   "outputs": [
    {
     "name": "stderr",
     "output_type": "stream",
     "text": [
      "/var/folders/hg/t_3ps3k16ml5zf5b9hdjjpzw0000gn/T/ipykernel_10374/3100304392.py:5: DeprecationWarning: executable_path has been deprecated, please pass in a Service object\n",
      "  driver = webdriver.Chrome(chromeDriver_dir, options=options)\n"
     ]
    },
    {
     "name": "stdout",
     "output_type": "stream",
     "text": [
      "22,740원\n"
     ]
    }
   ],
   "source": [
    "# selenium\n",
    "chromeDriver_dir = '/Users/bagdaehui/Desktop/chromedriver'\n",
    "options = webdriver.ChromeOptions()\n",
    "options.add_argument('headless')\n",
    "driver = webdriver.Chrome(chromeDriver_dir, options=options)\n",
    "url = search_results_list[4]['link']\n",
    "\n",
    "driver.get(url)\n",
    "\n",
    "delivery_fee_btn = driver.find_element(By.XPATH, \n",
    "    '//*[@id=\"section_price\"]/div[2]/div[1]/div[2]/span[1]/a'\n",
    ")\n",
    "delivery_fee_btn.click()\n",
    "\n",
    "result = driver.find_element(By.XPATH,\n",
    "    '//*[@id=\"section_price\"]/div[3]/ul/li[1]/div/div[3]/a/span'\n",
    ")\n",
    "\n",
    "print(result.text) # 배송비 포함한 가격 \n",
    "\n",
    "# driver.quit() 항상 꺼줘야 한다. "
   ]
  },
  {
   "cell_type": "code",
   "execution_count": null,
   "metadata": {},
   "outputs": [],
   "source": []
  }
 ],
 "metadata": {
  "kernelspec": {
   "display_name": "Python 3.8.9 64-bit",
   "language": "python",
   "name": "python3"
  },
  "language_info": {
   "codemirror_mode": {
    "name": "ipython",
    "version": 3
   },
   "file_extension": ".py",
   "mimetype": "text/x-python",
   "name": "python",
   "nbconvert_exporter": "python",
   "pygments_lexer": "ipython3",
   "version": "3.8.9"
  },
  "orig_nbformat": 4,
  "vscode": {
   "interpreter": {
    "hash": "31f2aee4e71d21fbe5cf8b01ff0e069b9275f58929596ceb00d14d90e3e16cd6"
   }
  }
 },
 "nbformat": 4,
 "nbformat_minor": 2
}
