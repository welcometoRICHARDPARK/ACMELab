{
 "cells": [
  {
   "cell_type": "code",
   "execution_count": 268,
   "metadata": {},
   "outputs": [],
   "source": [
    "from bs4 import BeautifulSoup\n",
    "import urllib.request as req\n",
    "import urllib.parse as par\n",
    "from urllib.parse import quote\n",
    "\n",
    "from selenium import webdriver\n",
    "from selenium.webdriver.common.by import By\n",
    "from chromedriver_autoinstaller import install\n",
    "\n",
    "import numpy as np\n",
    "import pandas as pd\n",
    "\n",
    "from tqdm import tqdm"
   ]
  },
  {
   "cell_type": "code",
   "execution_count": 269,
   "metadata": {},
   "outputs": [],
   "source": [
    "result_dictionary = {'merchandise_name':[],                        # ok\n",
    "\n",
    "          # vendor, membership 통합됨\n",
    "          'vendor_membership_name':[],                                  \n",
    "\n",
    "          'delivery_fee':[],                            # ok\n",
    "          'price_with_delivery_fee':[],                 # price_without_delivery_fee에 delivery_fee 합산해서 진행 예정\n",
    "          'price_without_delivery_fee':[],              # ok\n",
    "          'price_with_cardDiscount':[],\n",
    "          'price_without_cardDiscount':[]\n",
    "}"
   ]
  },
  {
   "cell_type": "code",
   "execution_count": 270,
   "metadata": {},
   "outputs": [
    {
     "name": "stderr",
     "output_type": "stream",
     "text": [
      "/var/folders/hg/t_3ps3k16ml5zf5b9hdjjpzw0000gn/T/ipykernel_1421/2628198429.py:4: DeprecationWarning: executable_path has been deprecated, please pass in a Service object\n",
      "  driver = webdriver.Chrome(chromeDriver_dir, options=options)\n"
     ]
    }
   ],
   "source": [
    "chromeDriver_dir = '/Users/bagdaehui/Desktop/chromedriver'\n",
    "options = webdriver.ChromeOptions()\n",
    "options.add_argument('headless')\n",
    "driver = webdriver.Chrome(chromeDriver_dir, options=options)"
   ]
  },
  {
   "cell_type": "code",
   "execution_count": 271,
   "metadata": {},
   "outputs": [],
   "source": [
    "def make_url_address(merchandise, keyword):\n",
    "    query = quote(merchandise+keyword)\n",
    "    mer_query = quote(merchandise)\n",
    "    url = f'https://search.shopping.naver.com/search/all?frm=NVSHMDL&iq={query}&origQuery={mer_query}&pagingIndex=1&pagingSize=40&productSet=model&query={mer_query}&sort=rel&timestamp=&viewType=list'\n",
    "    return url"
   ]
  },
  {
   "cell_type": "code",
   "execution_count": 272,
   "metadata": {},
   "outputs": [],
   "source": [
    "class Soup_SearchList(): \n",
    "    class_xpath = '.basicList_title__3P9Q7 > .basicList_link__1MaTN'\n",
    "\n",
    "    def make_soup(self, url):\n",
    "        self.response = req.urlopen(url)\n",
    "        self.soup = BeautifulSoup(self.response, 'html.parser')\n",
    "        return self.soup\n",
    "\n",
    "    def make_search_list(self, soup):\n",
    "        self.raw_list = soup.select(Soup.class_xpath)\n",
    "        self.search_list = []\n",
    "\n",
    "        for idx in range(len(self.raw_list)):\n",
    "            self.search_results_dict = {}\n",
    "            self.search_results_dict['title'] = self.raw_list[idx]['title']\n",
    "            self.search_results_dict['link'] = self.raw_list[idx]['href']\n",
    "            self.search_list.append(self.search_results_dict)\n",
    "        return self.search_list\n",
    "    "
   ]
  },
  {
   "cell_type": "code",
   "execution_count": 273,
   "metadata": {},
   "outputs": [],
   "source": [
    "class NAVER_driver(Soup_SearchList):\n",
    "    def __init__(self, merchandise, keyword):\n",
    "        self.merchandise = merchandise\n",
    "        self.keyword = keyword\n",
    "        self.url = make_url_address(merchandise, keyword)\n",
    "        \n",
    "\n",
    "    \n",
    "    def __NAVER_chrome_driver__(self):\n",
    "        self.chromeDriver_dir = '/Users/bagdaehui/Desktop/chromedriver'\n",
    "        self.options = webdriver.ChromeOptions()\n",
    "        self.options.add_argument('headless')\n",
    "        self.driver = webdriver.Chrome(chromeDriver_dir, options=self.options)\n",
    "        return self.driver\n"
   ]
  },
  {
   "cell_type": "code",
   "execution_count": 274,
   "metadata": {},
   "outputs": [],
   "source": [
    "def make_dataframe(search_list, result_dictionary):\n",
    "    for idx in tqdm(range(len(search_list)), ncols=100):\n",
    "        merchandise_name = search_list[idx]['title']\n",
    "\n",
    "        child_url = search_list[idx]['link']\n",
    "        child_soup = Soup_SearchList.make_soup(Soup_SearchList,child_url)\n",
    "\n",
    "        vendor_membership_name = child_soup.select('.productList_mall_link__1-Q4X')\n",
    "        for idx, name in enumerate(vendor_membership_name):\n",
    "            result_dictionary['merchandise_name'].append(merchandise_name)\n",
    "            result_dictionary['vendor_membership_name'].append(name.text)\n",
    "\n",
    "            driver = NAVER_driver.__NAVER_chrome_driver__(NAVER_driver)\n",
    "            driver.get(child_url)\n",
    "\n",
    "            price_without_delivery_fee = driver.find_element(By.XPATH,\n",
    "                f'//*[@id=\"section_price\"]/div[3]/ul/li[{idx+1}]/div/div[3]/a/span'\n",
    "            )\n",
    "            result_dictionary['price_without_delivery_fee'].append(price_without_delivery_fee.text)\n",
    "\n",
    "            delivery_fee = driver.find_element(By.XPATH,\n",
    "                f'//*[@id=\"section_price\"]/div[3]/ul/li[{idx+1}]/div/div[3]/div[2]'\n",
    "            )\n",
    "            if delivery_fee.text == '':\n",
    "                delivery_fee = driver.find_element(By.XPATH,\n",
    "                    f'//*[@id=\"section_price\"]/div[3]/ul/li[{idx+1}]/div/div[3]/div[1]'\n",
    "                )\n",
    "            result_dictionary['delivery_fee'].append(delivery_fee.text)\n",
    "    return result_dictionary"
   ]
  },
  {
   "cell_type": "code",
   "execution_count": 275,
   "metadata": {},
   "outputs": [],
   "source": [
    "a = NAVER_driver('삼다수', '500ml')"
   ]
  },
  {
   "cell_type": "code",
   "execution_count": 276,
   "metadata": {},
   "outputs": [],
   "source": [
    "search_results_list = a.make_search_list(a.make_soup(a.url))"
   ]
  },
  {
   "cell_type": "code",
   "execution_count": 277,
   "metadata": {},
   "outputs": [
    {
     "data": {
      "text/plain": [
       "[{'title': '제주특별자치도개발공사 제주삼다수 그린 무라벨 500ml',\n",
       "  'link': 'https://cr.shopping.naver.com/adcr.nhn?x=y1WVDD7Mr5%2B1AnyAlNBcK%2F%2F%2F%2Fw%3D%3DsF%2FWEicrUfwC6%2FY7tH1%2BwTWIFiwNa%2FFBMZsYaCV57cBMpDQHhA9574RbpM0JOv6aBagbNoLxREbq6wNZRzPwdLmMAUm9QbHqI6CpbiuBMrEho3mBGiaRYzofYMW%2FUNHbTqZZBKQLcllrGrkgMVb58Q8OmY27ZGze0Q%2BtXRlM4OxtFSICBvI1ATDFN58yC%2Fe2xnIyVtfXz4IyqPYRG9GN1N%2BJqodzubnreGIhp8MZNj2cBmnjZQfS5VNpyTjRfpKZ8AK1BccckEgXtMhHLM882bkPg%2F6PYJW9LpCSumzPJoigK7CtQzZWLlur1%2FFge4%2BEpkiP7OAFS1o80l%2Fzib%2FH9kcTImYskNTV4KnNTNJFMOvnqV63sjhhfyP%2F8zxw6dNpe00U%2Fu4uSgPh%2Fb3F3nr3raQZUmNA4gxLTebXdgCfMUNDLTomfrXgOU2qVhq7nJE0fc0wJztCB%2B4TM7xm1XvIh2PRYFy1tvB0Bu0B9ltsOr9YNZPRiPPcF56modHkqmWSwF69cyIWyHOqByujnY1CmbFf3rriHxu2QAwwkkh%2Fd3HeOv%2B%2BG7P8zZs54SDuTec41Esui%2BcDv7TaMyyWtifXYWm1LrZA%2FoXlKGFgf7r%2F5%2FxmFbDf4gHI5rSMJU1BWcIOg&nvMid=28856087586&catId=50002032'},\n",
       " {'title': '제주특별자치도개발공사 삼다수 500ml',\n",
       "  'link': 'https://cr.shopping.naver.com/adcr.nhn?x=%2F0S7qn8%2BN%2BM3Y0PcNhesOP%2F%2F%2Fw%3D%3DsSzOnmRtk06%2FH2r0dF2ZTNgc%2BHgl2NNA8tD8mCnz%2BClYpDQHhA9574RbpM0JOv6aBkA9BS2O3EfLDIgX3npDLMZQkq6HsCoOKZAQj8uCa2PyZoqO%2B%2BUrc3UObvXLw4Sh%2FUgpTnKGH0yWrOLtpnUP4DMv%2BjB2erv%2BZ%2Brrs5VHOiTQgGE7%2BZatKjf5hEf1XctkKtADQvI92wacqWUKEz8YOPOJqodzubnreGIhp8MZNj2cBmnjZQfS5VNpyTjRfpKZ8AK1BccckEgXtMhHLM882bkPg%2F6PYJW9LpCSumzPJoigK7CtQzZWLlur1%2FFge4%2BEpQldOexsn0sqbDyCdHKV6VkUd%2Bylir6%2FfL8CMdw5mUrAZqpOunzFEUu3zNoPIl6H1h7N10R0a9GHCFFtoMTpBSD6FURihOvVNK6%2BarovFEXaRP6c5Cz4ei1%2FoYL%2FBxpsY%2BmdGUNCbZ%2FJPAbUTR5FDcyzfUpNBHBPBBhx3eK2dMed26g9f0v8WsPs42Of1dZXD71tqtWQablf%2F77SlIExh50UdELuJgb6xIWhweuCsHe%2FBTQW2Up3%2FzbFKp53pMB9RA35CyMrpXQUt3%2FJvHupy5s1ITc7NlRPvorKrNyQBKaY%3D&nvMid=5752848813&catId=50002032'},\n",
       " {'title': 'GS25 광동 제주삼다수500ML',\n",
       "  'link': 'https://cr.shopping.naver.com/adcr.nhn?x=TyesT5%2Bjodk%2F%2FBpQjrSQG%2F%2F%2F%2Fw%3D%3DsiKPqBYZR9Sd17MwwsXjpgsenxCOvg1HGu9AzmgxD6icpDQHhA9574RbpM0JOv6aBpB0vmqa61a%2FvW%2BCA7ZF8KmMAUm9QbHqI6CpbiuBMrEho3mBGiaRYzofYMW%2FUNHbTqZZBKQLcllrGrkgMVb58Q8OmY27ZGze0Q%2BtXRlM4OxtFSICBvI1ATDFN58yC%2Fe2xNKqQmUICS75hxih7FYXCL%2BJqodzubnreGIhp8MZNj2cBmnjZQfS5VNpyTjRfpKZ8AK1BccckEgXtMhHLM882bkPg%2F6PYJW9LpCSumzPJoigK7CtQzZWLlur1%2FFge4%2BEp450vz4LFkhlTMfBB5TjoXZywmfj8NdAhanNCimhlfteCSMQivOezvUNyYNLviQ%2B%2FiLqTkURPGgrRxFSpfESOoG4Jfup8rDe4spUk8vsQQKGOui3YvZs5BW9mpxdwpfx7H%2BtfDU58EIgxWMkml0kkHQXSa%2F2y1wNKo8U%2BsW%2F66BXnB9Le4l3URuzuuVQJrlrSJ9nGQwv0qvbKkc16dyq6bVFD5KKvsJalmROmZOJPkxrbsD%2FL1ZzPsRTvY%2FPoQQY9EZ4v6sJ9KCJ%2BU0wACw%2B9s1rJefoOJbmkO4BD9YMbmM0NUJgJp6CUXauCvW7Y5AjN&nvMid=27890256524&catId=50007303'}]"
      ]
     },
     "execution_count": 277,
     "metadata": {},
     "output_type": "execute_result"
    }
   ],
   "source": [
    "search_results_list"
   ]
  },
  {
   "cell_type": "code",
   "execution_count": 278,
   "metadata": {},
   "outputs": [
    {
     "name": "stderr",
     "output_type": "stream",
     "text": [
      "  0%|                                                                         | 0/3 [00:00<?, ?it/s]/var/folders/hg/t_3ps3k16ml5zf5b9hdjjpzw0000gn/T/ipykernel_1421/915364426.py:13: DeprecationWarning: executable_path has been deprecated, please pass in a Service object\n",
      "  self.driver = webdriver.Chrome(chromeDriver_dir, options=self.options)\n",
      "100%|█████████████████████████████████████████████████████████████████| 3/3 [01:48<00:00, 36.30s/it]\n"
     ]
    }
   ],
   "source": [
    "test = make_dataframe(search_results_list, result_dictionary)"
   ]
  },
  {
   "cell_type": "code",
   "execution_count": 279,
   "metadata": {},
   "outputs": [
    {
     "data": {
      "text/plain": [
       "{'merchandise_name': ['제주특별자치도개발공사 제주삼다수 그린 무라벨 500ml',\n",
       "  '제주특별자치도개발공사 제주삼다수 그린 무라벨 500ml',\n",
       "  '제주특별자치도개발공사 제주삼다수 그린 무라벨 500ml',\n",
       "  '제주특별자치도개발공사 제주삼다수 그린 무라벨 500ml',\n",
       "  '제주특별자치도개발공사 제주삼다수 그린 무라벨 500ml',\n",
       "  '제주특별자치도개발공사 제주삼다수 그린 무라벨 500ml',\n",
       "  '제주특별자치도개발공사 제주삼다수 그린 무라벨 500ml',\n",
       "  '제주특별자치도개발공사 제주삼다수 그린 무라벨 500ml',\n",
       "  '제주특별자치도개발공사 제주삼다수 그린 무라벨 500ml',\n",
       "  '제주특별자치도개발공사 제주삼다수 그린 무라벨 500ml',\n",
       "  '제주특별자치도개발공사 제주삼다수 그린 무라벨 500ml',\n",
       "  '제주특별자치도개발공사 제주삼다수 그린 무라벨 500ml',\n",
       "  '제주특별자치도개발공사 제주삼다수 그린 무라벨 500ml',\n",
       "  '제주특별자치도개발공사 제주삼다수 그린 무라벨 500ml',\n",
       "  '제주특별자치도개발공사 제주삼다수 그린 무라벨 500ml',\n",
       "  '제주특별자치도개발공사 제주삼다수 그린 무라벨 500ml',\n",
       "  '제주특별자치도개발공사 제주삼다수 그린 무라벨 500ml',\n",
       "  '제주특별자치도개발공사 제주삼다수 그린 무라벨 500ml',\n",
       "  '제주특별자치도개발공사 제주삼다수 그린 무라벨 500ml',\n",
       "  '제주특별자치도개발공사 제주삼다수 그린 무라벨 500ml',\n",
       "  '제주특별자치도개발공사 삼다수 500ml',\n",
       "  '제주특별자치도개발공사 삼다수 500ml',\n",
       "  '제주특별자치도개발공사 삼다수 500ml',\n",
       "  '제주특별자치도개발공사 삼다수 500ml',\n",
       "  '제주특별자치도개발공사 삼다수 500ml',\n",
       "  '제주특별자치도개발공사 삼다수 500ml',\n",
       "  '제주특별자치도개발공사 삼다수 500ml',\n",
       "  '제주특별자치도개발공사 삼다수 500ml',\n",
       "  '제주특별자치도개발공사 삼다수 500ml',\n",
       "  '제주특별자치도개발공사 삼다수 500ml',\n",
       "  '제주특별자치도개발공사 삼다수 500ml',\n",
       "  '제주특별자치도개발공사 삼다수 500ml',\n",
       "  '제주특별자치도개발공사 삼다수 500ml',\n",
       "  '제주특별자치도개발공사 삼다수 500ml',\n",
       "  '제주특별자치도개발공사 삼다수 500ml',\n",
       "  '제주특별자치도개발공사 삼다수 500ml',\n",
       "  '제주특별자치도개발공사 삼다수 500ml',\n",
       "  '제주특별자치도개발공사 삼다수 500ml',\n",
       "  '제주특별자치도개발공사 삼다수 500ml',\n",
       "  '제주특별자치도개발공사 삼다수 500ml',\n",
       "  'GS25 광동 제주삼다수500ML',\n",
       "  'GS25 광동 제주삼다수500ML',\n",
       "  'GS25 광동 제주삼다수500ML'],\n",
       " 'vendor_membership_name': ['슬기로운생수네이버플러스멤버십',\n",
       "  '도움미학네이버플러스멤버십',\n",
       "  '온라인물류네이버플러스멤버십',\n",
       "  '',\n",
       "  '',\n",
       "  '네이버페이',\n",
       "  '',\n",
       "  '네이버페이',\n",
       "  '총각네 음료가게네이버플러스멤버십',\n",
       "  '네이버페이',\n",
       "  '네이버페이',\n",
       "  '',\n",
       "  '',\n",
       "  '',\n",
       "  '',\n",
       "  '',\n",
       "  '',\n",
       "  '',\n",
       "  '',\n",
       "  '네이버페이',\n",
       "  '슬기로운생수네이버플러스멤버십',\n",
       "  '장대리네이버플러스멤버십',\n",
       "  '스타일인센스네이버플러스멤버십',\n",
       "  '온라인물류네이버플러스멤버십',\n",
       "  '',\n",
       "  '',\n",
       "  '',\n",
       "  '장을보고네이버플러스멤버십',\n",
       "  '엔비어스 컴퍼니네이버플러스멤버십',\n",
       "  '',\n",
       "  '네이버페이',\n",
       "  '',\n",
       "  '킹도매몰네이버플러스멤버십',\n",
       "  '민별샵네이버플러스멤버십',\n",
       "  '주식회사 더커피몰네이버플러스멤버십',\n",
       "  '커피빅아울렛네이버플러스멤버십',\n",
       "  '네이버페이',\n",
       "  '',\n",
       "  'JI생활식품네이버플러스멤버십',\n",
       "  '로이와네이버플러스멤버십',\n",
       "  '',\n",
       "  '네이버페이',\n",
       "  ''],\n",
       " 'delivery_fee': ['오늘출발 (평일 16:00 주문마감)',\n",
       "  '3,000원',\n",
       "  '3,000원',\n",
       "  '새벽배송',\n",
       "  '3,000원',\n",
       "  '3,000원',\n",
       "  '3,000원',\n",
       "  '무료배송',\n",
       "  '오늘출발 (평일 15:00 주문마감)',\n",
       "  '무료배송',\n",
       "  '무료배송',\n",
       "  '무료배송',\n",
       "  '무료배송',\n",
       "  '무료배송',\n",
       "  '오늘출발 (평일 11:00 주문마감)',\n",
       "  '무료배송',\n",
       "  '무료배송',\n",
       "  '3,000원',\n",
       "  '오늘출발 (평일 14:00 주문마감)',\n",
       "  '무료배송',\n",
       "  '3,000원',\n",
       "  '3,000원',\n",
       "  '3,000원',\n",
       "  '3,000원',\n",
       "  '오늘출발 (평일 14:00 주문마감)',\n",
       "  '오늘출발 (평일 14:00 주문마감)',\n",
       "  '오늘출발 (평일 11:00 주문마감)',\n",
       "  '3,000원',\n",
       "  '3,000원',\n",
       "  '4,000원',\n",
       "  '3,000원',\n",
       "  '오늘출발 (평일 12:00 주문마감)',\n",
       "  '3,000원',\n",
       "  '3,000원',\n",
       "  '4,000원',\n",
       "  '4,000원',\n",
       "  '4,000원',\n",
       "  '오늘출발 (평일 11:00 주문마감)',\n",
       "  '4,000원',\n",
       "  '정기구독 시 1% 할인',\n",
       "  '무료배송',\n",
       "  '무료배송',\n",
       "  '무료배송'],\n",
       " 'price_with_delivery_fee': [],\n",
       " 'price_without_delivery_fee': ['최저 6,000원',\n",
       "  '8,300원',\n",
       "  '8,360원',\n",
       "  '8,570원',\n",
       "  '8,580원',\n",
       "  '8,600원',\n",
       "  '8,600원',\n",
       "  '9,000원',\n",
       "  '9,500원',\n",
       "  '9,600원',\n",
       "  '9,800원',\n",
       "  '9,980원',\n",
       "  '10,270원',\n",
       "  '10,420원',\n",
       "  '10,610원',\n",
       "  '10,670원',\n",
       "  '10,900원',\n",
       "  '11,010원',\n",
       "  '11,160원',\n",
       "  '11,310원',\n",
       "  '최저 5,800원',\n",
       "  '5,830원',\n",
       "  '5,850원',\n",
       "  '6,140원',\n",
       "  '6,450원',\n",
       "  '6,450원',\n",
       "  '6,600원',\n",
       "  '6,690원',\n",
       "  '6,770원',\n",
       "  '6,800원',\n",
       "  '6,920원',\n",
       "  '6,960원',\n",
       "  '7,040원',\n",
       "  '7,070원',\n",
       "  '7,070원',\n",
       "  '7,070원',\n",
       "  '7,090원',\n",
       "  '7,120원',\n",
       "  '7,310원',\n",
       "  '7,400원',\n",
       "  '최저 950원',\n",
       "  '최저 950원',\n",
       "  '최저 950원'],\n",
       " 'price_with_cardDiscount': [],\n",
       " 'price_without_cardDiscount': []}"
      ]
     },
     "execution_count": 279,
     "metadata": {},
     "output_type": "execute_result"
    }
   ],
   "source": [
    "test"
   ]
  },
  {
   "cell_type": "code",
   "execution_count": 282,
   "metadata": {},
   "outputs": [
    {
     "data": {
      "text/plain": [
       "43"
      ]
     },
     "execution_count": 282,
     "metadata": {},
     "output_type": "execute_result"
    }
   ],
   "source": [
    "len(test['merchandise_name'])"
   ]
  },
  {
   "cell_type": "code",
   "execution_count": 283,
   "metadata": {},
   "outputs": [
    {
     "data": {
      "text/plain": [
       "43"
      ]
     },
     "execution_count": 283,
     "metadata": {},
     "output_type": "execute_result"
    }
   ],
   "source": [
    "len(test['vendor_membership_name'])"
   ]
  },
  {
   "cell_type": "code",
   "execution_count": null,
   "metadata": {},
   "outputs": [],
   "source": []
  }
 ],
 "metadata": {
  "kernelspec": {
   "display_name": "Python 3.10.5 64-bit",
   "language": "python",
   "name": "python3"
  },
  "language_info": {
   "codemirror_mode": {
    "name": "ipython",
    "version": 3
   },
   "file_extension": ".py",
   "mimetype": "text/x-python",
   "name": "python",
   "nbconvert_exporter": "python",
   "pygments_lexer": "ipython3",
   "version": "3.10.5"
  },
  "orig_nbformat": 4,
  "vscode": {
   "interpreter": {
    "hash": "aee8b7b246df8f9039afb4144a1f6fd8d2ca17a180786b69acc140d282b71a49"
   }
  }
 },
 "nbformat": 4,
 "nbformat_minor": 2
}
