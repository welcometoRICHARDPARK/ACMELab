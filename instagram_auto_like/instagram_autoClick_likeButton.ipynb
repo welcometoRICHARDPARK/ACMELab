{
 "cells": [
  {
   "cell_type": "code",
   "execution_count": 3,
   "metadata": {},
   "outputs": [],
   "source": [
    "from selenium import webdriver\n",
    "from chromedriver_autoinstaller import install\n",
    "import time"
   ]
  },
  {
   "cell_type": "code",
   "execution_count": 10,
   "metadata": {},
   "outputs": [
    {
     "ename": "SyntaxError",
     "evalue": "invalid syntax (<ipython-input-10-84dc12e4f741>, line 17)",
     "output_type": "error",
     "traceback": [
      "\u001b[0;36m  File \u001b[0;32m\"<ipython-input-10-84dc12e4f741>\"\u001b[0;36m, line \u001b[0;32m17\u001b[0m\n\u001b[0;31m    if\u001b[0m\n\u001b[0m       ^\u001b[0m\n\u001b[0;31mSyntaxError\u001b[0m\u001b[0;31m:\u001b[0m invalid syntax\n"
     ]
    }
   ],
   "source": [
    "def login_autoClick_likeButton_instagram(url):\n",
    "    username = input('username >>>>')\n",
    "    password = input('password >>>>')\n",
    "    \n",
    "    driver = webdriver.Chrome(install())\n",
    "    driver.get(url)\n",
    "    time.sleep(3)\n",
    "    \n",
    "    ##########################   Login   ##########################\n",
    "    id = driver.find_element_by_name('username')\n",
    "    id.send_keys(username)\n",
    "    \n",
    "    pw = driver.find_element_by_name('password')\n",
    "    pw.send_keys(password)\n",
    "    \n",
    "    # login 오류 예외 처리 \n",
    "    # error_message = driver.find_element_by_css_selector(\n",
    "    #     'div.eiCW-'\n",
    "    # )\n",
    "    # if error_message:\n",
    "    #     print('❗️ >>>>>>>>>>>> 다시 입력하세요')\n",
    "        \n",
    "    \n",
    "    button = driver.find_element_by_css_selector(\n",
    "        \"div.qF0y9.Igw0E.IwRSH.eGOV_.acqo5._4EzTm.bkEs3.CovQj.jKUp7.DhRcB\"\n",
    "    )\n",
    "    button.click()\n",
    "    time.sleep(6)\n",
    "    \n",
    "    ##########################  Login 후 popup창 예외 처리  ##########################\n",
    "    popup1 = driver.find_element_by_css_selector(\n",
    "        'div.pV7Qt.DPiy6.qF0y9.Igw0E.IwRSH.eGOV_.acqo5._4EzTm.qhGB0.ZUqME'\n",
    "    )  \n",
    "    if popup1:\n",
    "        print('❗️ >>>>>>>>>>>>>>>>>>>>>>>>> popup1')\n",
    "        button = driver.find_element_by_css_selector(\n",
    "            'div.cmbtv'\n",
    "        )\n",
    "        button.click()\n",
    "        time.sleep(6)\n",
    "        \n",
    "    else:\n",
    "        print('😀 >>>>>>>>>>>>>>>>>>>>>> no popup1')\n",
    "    \n",
    "    popup2 = driver.find_element_by_css_selector(\n",
    "        'div._a9-v'\n",
    "    )\n",
    "    if popup2:\n",
    "        print('❗️ >>>>>>>>>>>>>>>>>>>>>>>>> popup2')\n",
    "        button = driver.find_element_by_css_selector(\n",
    "            'button._a9--._a9_1'\n",
    "        )\n",
    "        button.click()\n",
    "        time.sleep(6)\n",
    "    else:\n",
    "        print('😀 >>>>>>>>>>>>>>>>>>>>>> no popup1')\n",
    "        \n",
    "        \n",
    "    \n",
    "    ##########################  해시태그 검색 ##########################\n",
    "    hash_tag = input('해시태그 입력 >>>>>>>>>>>>>>>')\n",
    "    hash_tag_url = f'https://www.instagram.com/explore/tags/{hash_tag}/?hl=ko'\n",
    "    driver.get(hash_tag_url)\n",
    "    time.sleep(6)\n",
    "    \n",
    "    ##########################  첫번째 사진 클릭  ##########################\n",
    "    first_photo = driver.find_element_by_css_selector(\n",
    "        'div._aagw'\n",
    "    )\n",
    "    first_photo.click()\n",
    "    time.sleep(5)\n",
    "    \n",
    "    ########################## 자동 좋아요 시작 ##########################\n",
    "    while True:\n",
    "        like = driver.find_element_by_css_selector(\n",
    "            \"section._aamu._aaz9 span>svg._ab6-\"\n",
    "        )\n",
    "        next = driver.find_element_by_css_selector(\n",
    "            \"div._aaqg._aaqh > button._abl- svg._ab6-\"\n",
    "        )\n",
    "        \n",
    "        if like.get_attribute('aria-label') == '좋아요':\n",
    "            like.click()\n",
    "            time.sleep(5)\n",
    "            next.click()\n",
    "            time.sleep(5)\n",
    "        else:\n",
    "            next.click()\n",
    "            time.sleep(5)"
   ]
  },
  {
   "cell_type": "code",
   "execution_count": 11,
   "metadata": {},
   "outputs": [
    {
     "name": "stderr",
     "output_type": "stream",
     "text": [
      "<ipython-input-6-73439b15e86a>:5: DeprecationWarning: executable_path has been deprecated, please pass in a Service object\n",
      "  driver = webdriver.Chrome(install())\n",
      "<ipython-input-6-73439b15e86a>:10: DeprecationWarning: find_element_by_name is deprecated. Please use find_element(by=By.NAME, value=name) instead\n",
      "  id = driver.find_element_by_name('username')\n",
      "<ipython-input-6-73439b15e86a>:13: DeprecationWarning: find_element_by_name is deprecated. Please use find_element(by=By.NAME, value=name) instead\n",
      "  pw = driver.find_element_by_name('password')\n",
      "<ipython-input-6-73439b15e86a>:17: DeprecationWarning: find_element_by_css_selector is deprecated. Please use find_element(by=By.CSS_SELECTOR, value=css_selector) instead\n",
      "  button = driver.find_element_by_css_selector(\n",
      "<ipython-input-6-73439b15e86a>:24: DeprecationWarning: find_element_by_css_selector is deprecated. Please use find_element(by=By.CSS_SELECTOR, value=css_selector) instead\n",
      "  popup1 = driver.find_element_by_css_selector(\n"
     ]
    },
    {
     "ename": "NoSuchElementException",
     "evalue": "Message: no such element: Unable to locate element: {\"method\":\"css selector\",\"selector\":\"div.pV7Qt.DPiy6.qF0y9.Igw0E.IwRSH.eGOV_.acqo5._4EzTm.qhGB0.ZUqME\"}\n  (Session info: chrome=103.0.5060.134)\nStacktrace:\n0   chromedriver                        0x000000010f10eef9 chromedriver + 4480761\n1   chromedriver                        0x000000010f09a5d3 chromedriver + 4003283\n2   chromedriver                        0x000000010ed2d338 chromedriver + 410424\n3   chromedriver                        0x000000010ed635bd chromedriver + 632253\n4   chromedriver                        0x000000010ed63841 chromedriver + 632897\n5   chromedriver                        0x000000010ed957d4 chromedriver + 837588\n6   chromedriver                        0x000000010ed80a8d chromedriver + 752269\n7   chromedriver                        0x000000010ed934f1 chromedriver + 828657\n8   chromedriver                        0x000000010ed80953 chromedriver + 751955\n9   chromedriver                        0x000000010ed56cd5 chromedriver + 580821\n10  chromedriver                        0x000000010ed57d25 chromedriver + 584997\n11  chromedriver                        0x000000010f0e002d chromedriver + 4288557\n12  chromedriver                        0x000000010f0e51b3 chromedriver + 4309427\n13  chromedriver                        0x000000010f0ea23f chromedriver + 4330047\n14  chromedriver                        0x000000010f0e5dfa chromedriver + 4312570\n15  chromedriver                        0x000000010f0befef chromedriver + 4153327\n16  chromedriver                        0x000000010f0ffd78 chromedriver + 4418936\n17  chromedriver                        0x000000010f0ffeff chromedriver + 4419327\n18  chromedriver                        0x000000010f116ab5 chromedriver + 4512437\n19  libsystem_pthread.dylib             0x00007ff816c254e1 _pthread_start + 125\n20  libsystem_pthread.dylib             0x00007ff816c20f6b thread_start + 15\n",
     "output_type": "error",
     "traceback": [
      "\u001b[0;31m---------------------------------------------------------------------------\u001b[0m",
      "\u001b[0;31mNoSuchElementException\u001b[0m                    Traceback (most recent call last)",
      "\u001b[0;32m<ipython-input-11-da2aa4e0ae3f>\u001b[0m in \u001b[0;36m<module>\u001b[0;34m\u001b[0m\n\u001b[1;32m      1\u001b[0m \u001b[0murl\u001b[0m \u001b[0;34m=\u001b[0m \u001b[0;34m'https://www.instagram.com/accounts/login/?hl=ko&source=auth_switcher'\u001b[0m\u001b[0;34m\u001b[0m\u001b[0;34m\u001b[0m\u001b[0m\n\u001b[0;32m----> 2\u001b[0;31m \u001b[0mlogin_autoClick_likeButton_instagram\u001b[0m\u001b[0;34m(\u001b[0m\u001b[0murl\u001b[0m\u001b[0;34m)\u001b[0m\u001b[0;34m\u001b[0m\u001b[0;34m\u001b[0m\u001b[0m\n\u001b[0m",
      "\u001b[0;32m<ipython-input-6-73439b15e86a>\u001b[0m in \u001b[0;36mlogin_autoClick_likeButton_instagram\u001b[0;34m(url)\u001b[0m\n\u001b[1;32m     22\u001b[0m \u001b[0;34m\u001b[0m\u001b[0m\n\u001b[1;32m     23\u001b[0m     \u001b[0;31m##########################  Login 후 popup창 예외 처리  ##########################\u001b[0m\u001b[0;34m\u001b[0m\u001b[0;34m\u001b[0m\u001b[0;34m\u001b[0m\u001b[0m\n\u001b[0;32m---> 24\u001b[0;31m     popup1 = driver.find_element_by_css_selector(\n\u001b[0m\u001b[1;32m     25\u001b[0m         \u001b[0;34m'div.pV7Qt.DPiy6.qF0y9.Igw0E.IwRSH.eGOV_.acqo5._4EzTm.qhGB0.ZUqME'\u001b[0m\u001b[0;34m\u001b[0m\u001b[0;34m\u001b[0m\u001b[0m\n\u001b[1;32m     26\u001b[0m     )  \n",
      "\u001b[0;32m/opt/anaconda3/lib/python3.8/site-packages/selenium/webdriver/remote/webdriver.py\u001b[0m in \u001b[0;36mfind_element_by_css_selector\u001b[0;34m(self, css_selector)\u001b[0m\n\u001b[1;32m    812\u001b[0m             \u001b[0mstacklevel\u001b[0m\u001b[0;34m=\u001b[0m\u001b[0;36m2\u001b[0m\u001b[0;34m,\u001b[0m\u001b[0;34m\u001b[0m\u001b[0;34m\u001b[0m\u001b[0m\n\u001b[1;32m    813\u001b[0m         )\n\u001b[0;32m--> 814\u001b[0;31m         \u001b[0;32mreturn\u001b[0m \u001b[0mself\u001b[0m\u001b[0;34m.\u001b[0m\u001b[0mfind_element\u001b[0m\u001b[0;34m(\u001b[0m\u001b[0mby\u001b[0m\u001b[0;34m=\u001b[0m\u001b[0mBy\u001b[0m\u001b[0;34m.\u001b[0m\u001b[0mCSS_SELECTOR\u001b[0m\u001b[0;34m,\u001b[0m \u001b[0mvalue\u001b[0m\u001b[0;34m=\u001b[0m\u001b[0mcss_selector\u001b[0m\u001b[0;34m)\u001b[0m\u001b[0;34m\u001b[0m\u001b[0;34m\u001b[0m\u001b[0m\n\u001b[0m\u001b[1;32m    815\u001b[0m \u001b[0;34m\u001b[0m\u001b[0m\n\u001b[1;32m    816\u001b[0m     \u001b[0;32mdef\u001b[0m \u001b[0mfind_elements_by_css_selector\u001b[0m\u001b[0;34m(\u001b[0m\u001b[0mself\u001b[0m\u001b[0;34m,\u001b[0m \u001b[0mcss_selector\u001b[0m\u001b[0;34m)\u001b[0m \u001b[0;34m->\u001b[0m \u001b[0mList\u001b[0m\u001b[0;34m[\u001b[0m\u001b[0mWebElement\u001b[0m\u001b[0;34m]\u001b[0m\u001b[0;34m:\u001b[0m\u001b[0;34m\u001b[0m\u001b[0;34m\u001b[0m\u001b[0m\n",
      "\u001b[0;32m/opt/anaconda3/lib/python3.8/site-packages/selenium/webdriver/remote/webdriver.py\u001b[0m in \u001b[0;36mfind_element\u001b[0;34m(self, by, value)\u001b[0m\n\u001b[1;32m   1249\u001b[0m             \u001b[0mvalue\u001b[0m \u001b[0;34m=\u001b[0m \u001b[0;34m'[name=\"%s\"]'\u001b[0m \u001b[0;34m%\u001b[0m \u001b[0mvalue\u001b[0m\u001b[0;34m\u001b[0m\u001b[0;34m\u001b[0m\u001b[0m\n\u001b[1;32m   1250\u001b[0m \u001b[0;34m\u001b[0m\u001b[0m\n\u001b[0;32m-> 1251\u001b[0;31m         return self.execute(Command.FIND_ELEMENT, {\n\u001b[0m\u001b[1;32m   1252\u001b[0m             \u001b[0;34m'using'\u001b[0m\u001b[0;34m:\u001b[0m \u001b[0mby\u001b[0m\u001b[0;34m,\u001b[0m\u001b[0;34m\u001b[0m\u001b[0;34m\u001b[0m\u001b[0m\n\u001b[1;32m   1253\u001b[0m             'value': value})['value']\n",
      "\u001b[0;32m/opt/anaconda3/lib/python3.8/site-packages/selenium/webdriver/remote/webdriver.py\u001b[0m in \u001b[0;36mexecute\u001b[0;34m(self, driver_command, params)\u001b[0m\n\u001b[1;32m    428\u001b[0m         \u001b[0mresponse\u001b[0m \u001b[0;34m=\u001b[0m \u001b[0mself\u001b[0m\u001b[0;34m.\u001b[0m\u001b[0mcommand_executor\u001b[0m\u001b[0;34m.\u001b[0m\u001b[0mexecute\u001b[0m\u001b[0;34m(\u001b[0m\u001b[0mdriver_command\u001b[0m\u001b[0;34m,\u001b[0m \u001b[0mparams\u001b[0m\u001b[0;34m)\u001b[0m\u001b[0;34m\u001b[0m\u001b[0;34m\u001b[0m\u001b[0m\n\u001b[1;32m    429\u001b[0m         \u001b[0;32mif\u001b[0m \u001b[0mresponse\u001b[0m\u001b[0;34m:\u001b[0m\u001b[0;34m\u001b[0m\u001b[0;34m\u001b[0m\u001b[0m\n\u001b[0;32m--> 430\u001b[0;31m             \u001b[0mself\u001b[0m\u001b[0;34m.\u001b[0m\u001b[0merror_handler\u001b[0m\u001b[0;34m.\u001b[0m\u001b[0mcheck_response\u001b[0m\u001b[0;34m(\u001b[0m\u001b[0mresponse\u001b[0m\u001b[0;34m)\u001b[0m\u001b[0;34m\u001b[0m\u001b[0;34m\u001b[0m\u001b[0m\n\u001b[0m\u001b[1;32m    431\u001b[0m             response['value'] = self._unwrap_value(\n\u001b[1;32m    432\u001b[0m                 response.get('value', None))\n",
      "\u001b[0;32m/opt/anaconda3/lib/python3.8/site-packages/selenium/webdriver/remote/errorhandler.py\u001b[0m in \u001b[0;36mcheck_response\u001b[0;34m(self, response)\u001b[0m\n\u001b[1;32m    245\u001b[0m                 \u001b[0malert_text\u001b[0m \u001b[0;34m=\u001b[0m \u001b[0mvalue\u001b[0m\u001b[0;34m[\u001b[0m\u001b[0;34m'alert'\u001b[0m\u001b[0;34m]\u001b[0m\u001b[0;34m.\u001b[0m\u001b[0mget\u001b[0m\u001b[0;34m(\u001b[0m\u001b[0;34m'text'\u001b[0m\u001b[0;34m)\u001b[0m\u001b[0;34m\u001b[0m\u001b[0;34m\u001b[0m\u001b[0m\n\u001b[1;32m    246\u001b[0m             \u001b[0;32mraise\u001b[0m \u001b[0mexception_class\u001b[0m\u001b[0;34m(\u001b[0m\u001b[0mmessage\u001b[0m\u001b[0;34m,\u001b[0m \u001b[0mscreen\u001b[0m\u001b[0;34m,\u001b[0m \u001b[0mstacktrace\u001b[0m\u001b[0;34m,\u001b[0m \u001b[0malert_text\u001b[0m\u001b[0;34m)\u001b[0m  \u001b[0;31m# type: ignore[call-arg]  # mypy is not smart enough here\u001b[0m\u001b[0;34m\u001b[0m\u001b[0;34m\u001b[0m\u001b[0m\n\u001b[0;32m--> 247\u001b[0;31m         \u001b[0;32mraise\u001b[0m \u001b[0mexception_class\u001b[0m\u001b[0;34m(\u001b[0m\u001b[0mmessage\u001b[0m\u001b[0;34m,\u001b[0m \u001b[0mscreen\u001b[0m\u001b[0;34m,\u001b[0m \u001b[0mstacktrace\u001b[0m\u001b[0;34m)\u001b[0m\u001b[0;34m\u001b[0m\u001b[0;34m\u001b[0m\u001b[0m\n\u001b[0m\u001b[1;32m    248\u001b[0m \u001b[0;34m\u001b[0m\u001b[0m\n\u001b[1;32m    249\u001b[0m     \u001b[0;32mdef\u001b[0m \u001b[0m_value_or_default\u001b[0m\u001b[0;34m(\u001b[0m\u001b[0mself\u001b[0m\u001b[0;34m,\u001b[0m \u001b[0mobj\u001b[0m\u001b[0;34m:\u001b[0m \u001b[0mMapping\u001b[0m\u001b[0;34m[\u001b[0m\u001b[0m_KT\u001b[0m\u001b[0;34m,\u001b[0m \u001b[0m_VT\u001b[0m\u001b[0;34m]\u001b[0m\u001b[0;34m,\u001b[0m \u001b[0mkey\u001b[0m\u001b[0;34m:\u001b[0m \u001b[0m_KT\u001b[0m\u001b[0;34m,\u001b[0m \u001b[0mdefault\u001b[0m\u001b[0;34m:\u001b[0m \u001b[0m_VT\u001b[0m\u001b[0;34m)\u001b[0m \u001b[0;34m->\u001b[0m \u001b[0m_VT\u001b[0m\u001b[0;34m:\u001b[0m\u001b[0;34m\u001b[0m\u001b[0;34m\u001b[0m\u001b[0m\n",
      "\u001b[0;31mNoSuchElementException\u001b[0m: Message: no such element: Unable to locate element: {\"method\":\"css selector\",\"selector\":\"div.pV7Qt.DPiy6.qF0y9.Igw0E.IwRSH.eGOV_.acqo5._4EzTm.qhGB0.ZUqME\"}\n  (Session info: chrome=103.0.5060.134)\nStacktrace:\n0   chromedriver                        0x000000010f10eef9 chromedriver + 4480761\n1   chromedriver                        0x000000010f09a5d3 chromedriver + 4003283\n2   chromedriver                        0x000000010ed2d338 chromedriver + 410424\n3   chromedriver                        0x000000010ed635bd chromedriver + 632253\n4   chromedriver                        0x000000010ed63841 chromedriver + 632897\n5   chromedriver                        0x000000010ed957d4 chromedriver + 837588\n6   chromedriver                        0x000000010ed80a8d chromedriver + 752269\n7   chromedriver                        0x000000010ed934f1 chromedriver + 828657\n8   chromedriver                        0x000000010ed80953 chromedriver + 751955\n9   chromedriver                        0x000000010ed56cd5 chromedriver + 580821\n10  chromedriver                        0x000000010ed57d25 chromedriver + 584997\n11  chromedriver                        0x000000010f0e002d chromedriver + 4288557\n12  chromedriver                        0x000000010f0e51b3 chromedriver + 4309427\n13  chromedriver                        0x000000010f0ea23f chromedriver + 4330047\n14  chromedriver                        0x000000010f0e5dfa chromedriver + 4312570\n15  chromedriver                        0x000000010f0befef chromedriver + 4153327\n16  chromedriver                        0x000000010f0ffd78 chromedriver + 4418936\n17  chromedriver                        0x000000010f0ffeff chromedriver + 4419327\n18  chromedriver                        0x000000010f116ab5 chromedriver + 4512437\n19  libsystem_pthread.dylib             0x00007ff816c254e1 _pthread_start + 125\n20  libsystem_pthread.dylib             0x00007ff816c20f6b thread_start + 15\n"
     ]
    }
   ],
   "source": [
    "url = 'https://www.instagram.com/accounts/login/?hl=ko&source=auth_switcher'\n",
    "login_autoClick_likeButton_instagram(url)"
   ]
  },
  {
   "cell_type": "code",
   "execution_count": null,
   "metadata": {},
   "outputs": [],
   "source": []
  }
 ],
 "metadata": {
  "kernelspec": {
   "display_name": "Python 3.8.13 ('base')",
   "language": "python",
   "name": "python3"
  },
  "language_info": {
   "codemirror_mode": {
    "name": "ipython",
    "version": 3
   },
   "file_extension": ".py",
   "mimetype": "text/x-python",
   "name": "python",
   "nbconvert_exporter": "python",
   "pygments_lexer": "ipython3",
   "version": "3.8.13"
  },
  "orig_nbformat": 4,
  "vscode": {
   "interpreter": {
    "hash": "40d3a090f54c6569ab1632332b64b2c03c39dcf918b08424e98f38b5ae0af88f"
   }
  }
 },
 "nbformat": 4,
 "nbformat_minor": 2
}
