{
 "cells": [
  {
   "cell_type": "code",
   "execution_count": 11,
   "metadata": {},
   "outputs": [],
   "source": [
    "from bs4 import BeautifulSoup\n",
    "import urllib.request as req\n",
    "import urllib.parse as par\n",
    "from urllib.parse import quote\n",
    "\n",
    "from selenium import webdriver\n",
    "from selenium.webdriver.common.by import By\n",
    "from chromedriver_autoinstaller import install\n",
    "\n",
    "import numpy as np\n",
    "import pandas as pd\n",
    "\n",
    "\n",
    "import time"
   ]
  },
  {
   "cell_type": "code",
   "execution_count": 12,
   "metadata": {},
   "outputs": [],
   "source": [
    "a = [1,2]\n",
    "a.append(3)"
   ]
  },
  {
   "cell_type": "code",
   "execution_count": 13,
   "metadata": {},
   "outputs": [],
   "source": [
    "result = {'merchandise_name':[],                        # ok\n",
    "\n",
    "          # vendor, membership 통합됨\n",
    "          'vendor_membership_name':[],                  # ok       \n",
    "\n",
    "          'delivery_fee':[],                            # ok\n",
    "          'price_with_delivery_fee':[],                 # price_without_delivery_fee에 delivery_fee 합산해서 진행 예정\n",
    "          'price_without_delivery_fee':[],              # ok\n",
    "          'price_with_cardDiscount':[],\n",
    "          'price_without_cardDiscount':[]\n",
    "}"
   ]
  },
  {
   "cell_type": "code",
   "execution_count": 14,
   "metadata": {},
   "outputs": [],
   "source": [
    "df = pd.DataFrame(result)"
   ]
  },
  {
   "cell_type": "code",
   "execution_count": 15,
   "metadata": {},
   "outputs": [
    {
     "data": {
      "text/html": [
       "<div>\n",
       "<style scoped>\n",
       "    .dataframe tbody tr th:only-of-type {\n",
       "        vertical-align: middle;\n",
       "    }\n",
       "\n",
       "    .dataframe tbody tr th {\n",
       "        vertical-align: top;\n",
       "    }\n",
       "\n",
       "    .dataframe thead th {\n",
       "        text-align: right;\n",
       "    }\n",
       "</style>\n",
       "<table border=\"1\" class=\"dataframe\">\n",
       "  <thead>\n",
       "    <tr style=\"text-align: right;\">\n",
       "      <th></th>\n",
       "      <th>merchandise_name</th>\n",
       "      <th>vendor</th>\n",
       "      <th>membership</th>\n",
       "      <th>delivery_fee</th>\n",
       "      <th>price_with_delivery_fee</th>\n",
       "      <th>price_without_delivery_fee</th>\n",
       "      <th>price_with_cardDiscount</th>\n",
       "      <th>price_without_cardDiscount</th>\n",
       "    </tr>\n",
       "  </thead>\n",
       "  <tbody>\n",
       "  </tbody>\n",
       "</table>\n",
       "</div>"
      ],
      "text/plain": [
       "Empty DataFrame\n",
       "Columns: [merchandise_name, vendor, membership, delivery_fee, price_with_delivery_fee, price_without_delivery_fee, price_with_cardDiscount, price_without_cardDiscount]\n",
       "Index: []"
      ]
     },
     "execution_count": 15,
     "metadata": {},
     "output_type": "execute_result"
    }
   ],
   "source": [
    "df"
   ]
  },
  {
   "cell_type": "code",
   "execution_count": 16,
   "metadata": {},
   "outputs": [],
   "source": [
    "merchandise = '삼다수'\n",
    "keyword = '2l'\n",
    "raw_query = merchandise + keyword\n",
    "query = quote(raw_query)\n",
    "url = f'https://search.shopping.naver.com/search/all?frm=NVSHMDL&iq=%EC%82%BC%EB%8B%A4%EC%88%982l&origQuery=%EC%82%BC%EB%8B%A4%EC%88%98&pagingIndex=1&pagingSize=40&productSet=model&query={query}&sort=rel&timestamp=&viewType=list'"
   ]
  },
  {
   "cell_type": "code",
   "execution_count": 17,
   "metadata": {},
   "outputs": [],
   "source": [
    "response = req.urlopen(url)\n",
    "soup = BeautifulSoup(response, 'html.parser')"
   ]
  },
  {
   "cell_type": "markdown",
   "metadata": {},
   "source": [
    "원하는 정보가 있는 위치 찾기 \n",
    "\n",
    "\n",
    "- soup.select('원하는 정보')  # select('원하는 정보') -->  단 하나만 있더라도, 복수 가능한 형태로 되어있음\n",
    "- soup.select('태그명')\n",
    "- soup.select('.클래스명')\n",
    "- soup.select('상위태그명 > 하위태그명 > 하위태그명')\n",
    "- soup.select('상위태그명.클래스명 > 하위태그명.클래스명')    # 바로 아래의(자식) 태그를 선택시에는 > 기호를 사용\n",
    "- soup.select('상위태그명.클래스명 하~위태그명')              # 아래의(자손) 태그를 선택시에는   띄어쓰기 사용\n",
    "- soup.select('상위태그명 > 바로아래태그명 하~위태그명')     \n",
    "- soup.select('.클래스명')\n",
    "- soup.select('#아이디명')                  # 태그는 여러개에 사용 가능하나 아이디는 한번만 사용 가능함! ==> 선택하기 좋음\n",
    "- soup.select('태그명.클래스명)\n",
    "- soup.select('#아이디명 > 태그명.클래스명)\n",
    "- soup.select('태그명[속성1=값1]')"
   ]
  },
  {
   "cell_type": "code",
   "execution_count": 18,
   "metadata": {},
   "outputs": [],
   "source": [
    "test_1 = soup.select('.basicList_title__3P9Q7 > .basicList_link__1MaTN')"
   ]
  },
  {
   "cell_type": "code",
   "execution_count": 19,
   "metadata": {},
   "outputs": [
    {
     "data": {
      "text/plain": [
       "[<a class=\"basicList_link__1MaTN\" data-nclick=\"N=a:lst*C.title,i:5638876776,r:1\" href=\"https://cr.shopping.naver.com/adcr.nhn?x=zzfIjMG1s1Ed6x2pszQqgf%2F%2F%2Fw%3D%3Ds013Msr5l5VdQR6Iw7qYa93zPUTFm4OY%2Fs70Zglb1IEjUvtcO%2BX3mdUh6r3AuhbhCsjGDgaq8jZkknf6VXYRo4ecC7XToR7y%2FZ6SmQWjFUsgKSwgKILDdpZ%2B98ozzL35y4MsN4H3%2BJXDsiTfOJqJ%2FHN9%2BKy%2Fm0d%2BgYWHtEf61Jo5CNclKwvLyA%2Fys%2F%2FHPPajLy4AAAQh0NQTTo3GkUia8r6tn03WzirI1AjLnSi861fOFssNP6D3pJwzDKKbuzEiUS5klhbdWGAChsq8JzNBXEauKWQN4b7WstTXVRp4V%2Fd2Kx7G3krbJiQXzryuwwOqJSo3tDJGE%2FRDJQVu5jn1AOK5pIRbUYXAc2GhSzDgocAn1QQzCLreNp8sjPDBjStixHC8iBnrlq1zGgNQ4d%2FyYXlunN6Qj50oATEcvM8%2F49l8LSv5SYzis5SVdiBAX6a8Rdm7jQIca%2BQFyMekj97pxucQyTQuWkgailzCwFg3GfeEW8kyINQQdghnBP6lk1ww%2BfZqtbG2yVk5I26V5EejY2kZ0ZvuBE4%2BhLZWkgE7ov7yUfo%2FHMSydkcaKLE6eSfWgY7RBJx2aPv1bgiR77Jh46w1QmAmnoJRdq4K9btjkCM0%3D&amp;nvMid=5638876776&amp;catId=50002032\" rel=\"noopener\" target=\"_blank\" title=\"제주특별자치도개발공사 삼다수 2L\">제주특별자치도개발공사 삼다수 2L</a>,\n",
       " <a class=\"basicList_link__1MaTN\" data-nclick=\"N=a:lst*C.title,i:27965424524,r:2\" href=\"https://cr.shopping.naver.com/adcr.nhn?x=gDMG7c1z0syPBLSecxbzWv%2F%2F%2Fw%3D%3Ds7Onij7B%2B9MZEu1GxlsXmxzpT2pk0fDc0Ee3kj11BwSPUvtcO%2BX3mdUh6r3AuhbhCeW6pJ52bhCgQokoO27XUS7FgpJ8FACHGIc9LgNpMrqesOL673YL6GCGCNtSKOzPElKcXv6Jlgg2xTuhaMQ46skPg%2F6PYJW9LpCSumzPJoiiI9aZyW4hhCgmcrsQhWGWGO9E5dvomCErpmktKnAHWR6tn03WzirI1AjLnSi861fOFssNP6D3pJwzDKKbuzEiUS5klhbdWGAChsq8JzNBXEauKWQN4b7WstTXVRp4V%2Fd2Kx7G3krbJiQXzryuwwOqJwLtzSYj%2F3z1znGYwuSBrjCSI75XzTYxDp%2BOeYO6WaT5KjRp2D9pkBhcJdqPQCXkTSwiH5yNG0Kncbo%2FqjVZE5FFj8PUmZhOfEfMJGG8WwyoLSv5SYzis5SVdiBAX6a8RD7FB2eq2qMbjAiqhCKQAHA0c7PsBbgiFzqLw17yV9tfdygbMhOHZGVLoF2JsE3AA9CdMpcJvE%2F1TwmJXoRyt3ZaicFZqA2hICiU%2FPq%2BbDkcSzxwVRNV%2FYRemZK5z1sCEcnaxQijBxpJ0b%2B17QqOlmu6MIXwuuvPd6YZ82%2FjhSPNoaKZHilHbuauHUigNM5KA&amp;nvMid=27965424524&amp;catId=50002032\" rel=\"noopener\" target=\"_blank\" title=\"제주특별자치도개발공사 삼다수 무라벨 그린생수 2L\">제주특별자치도개발공사 삼다수 무라벨 그린생수 2L</a>,\n",
       " <a class=\"basicList_link__1MaTN\" data-nclick=\"N=a:lst*C.title,i:27328003523,r:3\" href=\"https://cr.shopping.naver.com/adcr.nhn?x=R%2BdvKMCoP%2F5k6tXxB3gGVP%2F%2F%2Fw%3D%3Dsie2DKvN6erZbS4POtfc9rL2dt4N8si9VUqo9N258rO5nUBAPlP5ZD0cry3Wru%2BWAYH1XOU8Omv9rJsVRBHjl45KXz2uRnoSebvK1JZ1AmFG%2FgJpoAKyCA03uZpeaE3F37eI%2FkxEZTXcCgZuftAjEiMi30QtKP1mA7BYZPpxeJLexWvZfe2todmJfmpbNrXnqCK%2BijFKrk8VXab%2Fdqe9hdGTYVIUxEsuhANw9%2BatU36Jz7spixNizIy6WRy6eCTWNj%2B4Nij0Uy%2Fr1YHQw9Jqbgibb7idwfu2IWPnnk6bMKFzBz7%2BORHa%2BX777%2F5U82WuFRDpykpOqWZgZqWcBmVwRDSFVCH0A9cEWO%2F1gXe%2FACcI6JIeyjRJJG8AQSjlBThBKVnim0SMrA05YvSUABRkFUAcHSBIqt62TvHb6We2%2B7CwiNvEAyH7XT6ObGe95mRdUIgSpZAEpRv57DqlCBzfaRm0WQnWxztyIl3WOxGwClp325YWArdG4Hs05f6zvu%2Fr0NFMIuKMZtoEpLhRvPPLUgv%2BhgaEvtfjk3bJufa08kFT6C0XXk8ySaOQ0OaLzzIxFMRMcJTvaF55Ncogr5Ug2%2BZF0%2BYBIfy%2FlyYsWzUnCLL0OEsHC78VBLnFZh%2FnDobeN&amp;nvMid=27328003523&amp;catId=50007303\" rel=\"noopener\" target=\"_blank\" title=\"이마트24 광동 삼다수2L\">이마트24 광동 삼다수2L</a>,\n",
       " <a class=\"basicList_link__1MaTN\" data-nclick=\"N=a:lst*C.title,i:27888628529,r:4\" href=\"https://cr.shopping.naver.com/adcr.nhn?x=g%2FkpIlcHySfMOcUSSqy%2FB%2F%2F%2F%2Fw%3D%3DsalDq3qfv90VHIJ0AOisfBVsyA8n%2BiH9vOVszEkGUAvdnUBAPlP5ZD0cry3Wru%2BWA52N0cCfSJ6bHph6ty2TsQ5KXz2uRnoSebvK1JZ1AmFG%2FgJpoAKyCA03uZpeaE3F37eI%2FkxEZTXcCgZuftAjEiMi30QtKP1mA7BYZPpxeJLexWvZfe2todmJfmpbNrXnqG32wwd4fU6yESqrLjRzjBGTYVIUxEsuhANw9%2BatU36Jz7spixNizIy6WRy6eCTWNj%2B4Nij0Uy%2Fr1YHQw9Jqbgibb7idwfu2IWPnnk6bMKFzBz7%2BORHa%2BX777%2F5U82WuFRDpykpOqWZgZqWcBmVwRDSZKqVRtWK2sGuo43crXGbk6JIeyjRJJG8AQSjlBThBKJ0zgQBmmGUbIUKwzlvhNjJtTl1%2BeU3wC%2FclSGHH3KYIiNvEAyH7XT6ObGe95mRdUl0LQt2LR5Pi2WInbLG0OTVU%2F%2FbGlJMNz1LhbJzGKiHb25YWArdG4Hs05f6zvu%2Fr0WxM5qVXKB6M4wRZBtxAsr7ANAPPxVSvZJumTYt58ql%2F6C0XXk8ySaOQ0OaLzzIxFWr3gSNa56%2Bjq0%2Fx6tLkhgFi9wJGhq9wQr6zhSz1z1mmFbDf4gHI5rSMJU1BWcIOg&amp;nvMid=27888628529&amp;catId=50007303\" rel=\"noopener\" target=\"_blank\" title=\"GS25 광동 제주삼다수 2L\">GS25 광동 제주삼다수 2L</a>,\n",
       " <a class=\"basicList_link__1MaTN\" data-nclick=\"N=a:lst*C.title,i:32633514521,r:5\" href=\"https://cr.shopping.naver.com/adcr.nhn?x=VS806b%2FJp6UF7Q4H1uTNPf%2F%2F%2Fw%3D%3DsMm3CxEA1FTVGK3oMtKWu%2BjsL2dqHGNIoarYeR9PQfuDm0kgyFhl118UgBwIOL97x7O%2BRjIOeZel2bIUUUPYMojHpCK1LLN93FRGeMvzvpKNPk6Z9teesOnlvtO%2BPVM%2FphM1rj8XbZ1UlYOx3msgtSsOmY27ZGze0Q%2BtXRlM4Oxvl48pn4Dvz5Q0UPYVKcm4hLCDGrAVIhhg7WI%2FGrMIGUuJqodzubnreGIhp8MZNj2fyOcS%2FYZgUhggRbOJjaHAJTRagLoDvzovU9XuFg9b4VasJF1TG8DXvuOXRWh2aiSE1QmeK3ZPITzKHcbEnR%2BI8eja45jkwQjsMnq7aGr8P4ZAf6K3DsKRf2ZfBQonOEUUAYS%2BLpqdjbw5cgsWj0p1k5nVYhfEb3eXU7huRQyIh7nNwfMtEj5ZuMkdeKlrZGA4lKvgB43gHwY2zufDz43djgrMYib3%2Fa8SkNVP84UkGjrsD%2FS9I%2B2LxwdjijZ9qy3D%2Bm8k9Hv9RzAjv%2FQHo1qg%2BbpLVy0G66K%2FD83tNnVCAOQEiGySRycbLX5VJ9d%2BE5JDqnf6URc%2BFJ5nLN9Vu2xnEOpLAdi18CScu5YPOUVBqYoKoDr6us%2BRKRCOTdsWr9TI%3D&amp;nvMid=32633514521&amp;catId=50001304\" rel=\"noopener\" target=\"_blank\" title=\"삼다수 무라벨 2l 6병\">삼다수 무라벨 2l 6병</a>]"
      ]
     },
     "execution_count": 19,
     "metadata": {},
     "output_type": "execute_result"
    }
   ],
   "source": [
    "test_1"
   ]
  },
  {
   "cell_type": "code",
   "execution_count": 20,
   "metadata": {},
   "outputs": [
    {
     "name": "stdout",
     "output_type": "stream",
     "text": [
      "{'title': '제주특별자치도개발공사 삼다수 2L', 'link': 'https://cr.shopping.naver.com/adcr.nhn?x=zzfIjMG1s1Ed6x2pszQqgf%2F%2F%2Fw%3D%3Ds013Msr5l5VdQR6Iw7qYa93zPUTFm4OY%2Fs70Zglb1IEjUvtcO%2BX3mdUh6r3AuhbhCsjGDgaq8jZkknf6VXYRo4ecC7XToR7y%2FZ6SmQWjFUsgKSwgKILDdpZ%2B98ozzL35y4MsN4H3%2BJXDsiTfOJqJ%2FHN9%2BKy%2Fm0d%2BgYWHtEf61Jo5CNclKwvLyA%2Fys%2F%2FHPPajLy4AAAQh0NQTTo3GkUia8r6tn03WzirI1AjLnSi861fOFssNP6D3pJwzDKKbuzEiUS5klhbdWGAChsq8JzNBXEauKWQN4b7WstTXVRp4V%2Fd2Kx7G3krbJiQXzryuwwOqJSo3tDJGE%2FRDJQVu5jn1AOK5pIRbUYXAc2GhSzDgocAn1QQzCLreNp8sjPDBjStixHC8iBnrlq1zGgNQ4d%2FyYXlunN6Qj50oATEcvM8%2F49l8LSv5SYzis5SVdiBAX6a8Rdm7jQIca%2BQFyMekj97pxucQyTQuWkgailzCwFg3GfeEW8kyINQQdghnBP6lk1ww%2BfZqtbG2yVk5I26V5EejY2kZ0ZvuBE4%2BhLZWkgE7ov7yUfo%2FHMSydkcaKLE6eSfWgY7RBJx2aPv1bgiR77Jh46w1QmAmnoJRdq4K9btjkCM0%3D&nvMid=5638876776&catId=50002032'}\n",
      "{'title': '제주특별자치도개발공사 삼다수 무라벨 그린생수 2L', 'link': 'https://cr.shopping.naver.com/adcr.nhn?x=gDMG7c1z0syPBLSecxbzWv%2F%2F%2Fw%3D%3Ds7Onij7B%2B9MZEu1GxlsXmxzpT2pk0fDc0Ee3kj11BwSPUvtcO%2BX3mdUh6r3AuhbhCeW6pJ52bhCgQokoO27XUS7FgpJ8FACHGIc9LgNpMrqesOL673YL6GCGCNtSKOzPElKcXv6Jlgg2xTuhaMQ46skPg%2F6PYJW9LpCSumzPJoiiI9aZyW4hhCgmcrsQhWGWGO9E5dvomCErpmktKnAHWR6tn03WzirI1AjLnSi861fOFssNP6D3pJwzDKKbuzEiUS5klhbdWGAChsq8JzNBXEauKWQN4b7WstTXVRp4V%2Fd2Kx7G3krbJiQXzryuwwOqJwLtzSYj%2F3z1znGYwuSBrjCSI75XzTYxDp%2BOeYO6WaT5KjRp2D9pkBhcJdqPQCXkTSwiH5yNG0Kncbo%2FqjVZE5FFj8PUmZhOfEfMJGG8WwyoLSv5SYzis5SVdiBAX6a8RD7FB2eq2qMbjAiqhCKQAHA0c7PsBbgiFzqLw17yV9tfdygbMhOHZGVLoF2JsE3AA9CdMpcJvE%2F1TwmJXoRyt3ZaicFZqA2hICiU%2FPq%2BbDkcSzxwVRNV%2FYRemZK5z1sCEcnaxQijBxpJ0b%2B17QqOlmu6MIXwuuvPd6YZ82%2FjhSPNoaKZHilHbuauHUigNM5KA&nvMid=27965424524&catId=50002032'}\n",
      "{'title': '이마트24 광동 삼다수2L', 'link': 'https://cr.shopping.naver.com/adcr.nhn?x=R%2BdvKMCoP%2F5k6tXxB3gGVP%2F%2F%2Fw%3D%3Dsie2DKvN6erZbS4POtfc9rL2dt4N8si9VUqo9N258rO5nUBAPlP5ZD0cry3Wru%2BWAYH1XOU8Omv9rJsVRBHjl45KXz2uRnoSebvK1JZ1AmFG%2FgJpoAKyCA03uZpeaE3F37eI%2FkxEZTXcCgZuftAjEiMi30QtKP1mA7BYZPpxeJLexWvZfe2todmJfmpbNrXnqCK%2BijFKrk8VXab%2Fdqe9hdGTYVIUxEsuhANw9%2BatU36Jz7spixNizIy6WRy6eCTWNj%2B4Nij0Uy%2Fr1YHQw9Jqbgibb7idwfu2IWPnnk6bMKFzBz7%2BORHa%2BX777%2F5U82WuFRDpykpOqWZgZqWcBmVwRDSFVCH0A9cEWO%2F1gXe%2FACcI6JIeyjRJJG8AQSjlBThBKVnim0SMrA05YvSUABRkFUAcHSBIqt62TvHb6We2%2B7CwiNvEAyH7XT6ObGe95mRdUIgSpZAEpRv57DqlCBzfaRm0WQnWxztyIl3WOxGwClp325YWArdG4Hs05f6zvu%2Fr0NFMIuKMZtoEpLhRvPPLUgv%2BhgaEvtfjk3bJufa08kFT6C0XXk8ySaOQ0OaLzzIxFMRMcJTvaF55Ncogr5Ug2%2BZF0%2BYBIfy%2FlyYsWzUnCLL0OEsHC78VBLnFZh%2FnDobeN&nvMid=27328003523&catId=50007303'}\n",
      "{'title': 'GS25 광동 제주삼다수 2L', 'link': 'https://cr.shopping.naver.com/adcr.nhn?x=g%2FkpIlcHySfMOcUSSqy%2FB%2F%2F%2F%2Fw%3D%3DsalDq3qfv90VHIJ0AOisfBVsyA8n%2BiH9vOVszEkGUAvdnUBAPlP5ZD0cry3Wru%2BWA52N0cCfSJ6bHph6ty2TsQ5KXz2uRnoSebvK1JZ1AmFG%2FgJpoAKyCA03uZpeaE3F37eI%2FkxEZTXcCgZuftAjEiMi30QtKP1mA7BYZPpxeJLexWvZfe2todmJfmpbNrXnqG32wwd4fU6yESqrLjRzjBGTYVIUxEsuhANw9%2BatU36Jz7spixNizIy6WRy6eCTWNj%2B4Nij0Uy%2Fr1YHQw9Jqbgibb7idwfu2IWPnnk6bMKFzBz7%2BORHa%2BX777%2F5U82WuFRDpykpOqWZgZqWcBmVwRDSZKqVRtWK2sGuo43crXGbk6JIeyjRJJG8AQSjlBThBKJ0zgQBmmGUbIUKwzlvhNjJtTl1%2BeU3wC%2FclSGHH3KYIiNvEAyH7XT6ObGe95mRdUl0LQt2LR5Pi2WInbLG0OTVU%2F%2FbGlJMNz1LhbJzGKiHb25YWArdG4Hs05f6zvu%2Fr0WxM5qVXKB6M4wRZBtxAsr7ANAPPxVSvZJumTYt58ql%2F6C0XXk8ySaOQ0OaLzzIxFWr3gSNa56%2Bjq0%2Fx6tLkhgFi9wJGhq9wQr6zhSz1z1mmFbDf4gHI5rSMJU1BWcIOg&nvMid=27888628529&catId=50007303'}\n",
      "{'title': '삼다수 무라벨 2l 6병', 'link': 'https://cr.shopping.naver.com/adcr.nhn?x=VS806b%2FJp6UF7Q4H1uTNPf%2F%2F%2Fw%3D%3DsMm3CxEA1FTVGK3oMtKWu%2BjsL2dqHGNIoarYeR9PQfuDm0kgyFhl118UgBwIOL97x7O%2BRjIOeZel2bIUUUPYMojHpCK1LLN93FRGeMvzvpKNPk6Z9teesOnlvtO%2BPVM%2FphM1rj8XbZ1UlYOx3msgtSsOmY27ZGze0Q%2BtXRlM4Oxvl48pn4Dvz5Q0UPYVKcm4hLCDGrAVIhhg7WI%2FGrMIGUuJqodzubnreGIhp8MZNj2fyOcS%2FYZgUhggRbOJjaHAJTRagLoDvzovU9XuFg9b4VasJF1TG8DXvuOXRWh2aiSE1QmeK3ZPITzKHcbEnR%2BI8eja45jkwQjsMnq7aGr8P4ZAf6K3DsKRf2ZfBQonOEUUAYS%2BLpqdjbw5cgsWj0p1k5nVYhfEb3eXU7huRQyIh7nNwfMtEj5ZuMkdeKlrZGA4lKvgB43gHwY2zufDz43djgrMYib3%2Fa8SkNVP84UkGjrsD%2FS9I%2B2LxwdjijZ9qy3D%2Bm8k9Hv9RzAjv%2FQHo1qg%2BbpLVy0G66K%2FD83tNnVCAOQEiGySRycbLX5VJ9d%2BE5JDqnf6URc%2BFJ5nLN9Vu2xnEOpLAdi18CScu5YPOUVBqYoKoDr6us%2BRKRCOTdsWr9TI%3D&nvMid=32633514521&catId=50001304'}\n"
     ]
    }
   ],
   "source": [
    "search_results = soup.select('.basicList_title__3P9Q7 > .basicList_link__1MaTN')\n",
    "search_results_list = []\n",
    "\n",
    "for idx in range(len(search_results)) :\n",
    "    search_results_dict = {}\n",
    "    search_results_dict['title'] = soup.select('.basicList_title__3P9Q7 > .basicList_link__1MaTN')[idx]['title']\n",
    "    search_results_dict['link'] = soup.select('.basicList_title__3P9Q7 > .basicList_link__1MaTN')[idx]['href']\n",
    "    print(search_results_dict)\n",
    "    search_results_list.append(search_results_dict)\n",
    "\n"
   ]
  },
  {
   "cell_type": "code",
   "execution_count": 21,
   "metadata": {},
   "outputs": [
    {
     "data": {
      "text/plain": [
       "5"
      ]
     },
     "execution_count": 21,
     "metadata": {},
     "output_type": "execute_result"
    }
   ],
   "source": [
    "len(search_results_list)"
   ]
  },
  {
   "cell_type": "code",
   "execution_count": 22,
   "metadata": {},
   "outputs": [
    {
     "data": {
      "text/plain": [
       "'https://cr.shopping.naver.com/adcr.nhn?x=VS806b%2FJp6UF7Q4H1uTNPf%2F%2F%2Fw%3D%3DsMm3CxEA1FTVGK3oMtKWu%2BjsL2dqHGNIoarYeR9PQfuDm0kgyFhl118UgBwIOL97x7O%2BRjIOeZel2bIUUUPYMojHpCK1LLN93FRGeMvzvpKNPk6Z9teesOnlvtO%2BPVM%2FphM1rj8XbZ1UlYOx3msgtSsOmY27ZGze0Q%2BtXRlM4Oxvl48pn4Dvz5Q0UPYVKcm4hLCDGrAVIhhg7WI%2FGrMIGUuJqodzubnreGIhp8MZNj2fyOcS%2FYZgUhggRbOJjaHAJTRagLoDvzovU9XuFg9b4VasJF1TG8DXvuOXRWh2aiSE1QmeK3ZPITzKHcbEnR%2BI8eja45jkwQjsMnq7aGr8P4ZAf6K3DsKRf2ZfBQonOEUUAYS%2BLpqdjbw5cgsWj0p1k5nVYhfEb3eXU7huRQyIh7nNwfMtEj5ZuMkdeKlrZGA4lKvgB43gHwY2zufDz43djgrMYib3%2Fa8SkNVP84UkGjrsD%2FS9I%2B2LxwdjijZ9qy3D%2Bm8k9Hv9RzAjv%2FQHo1qg%2BbpLVy0G66K%2FD83tNnVCAOQEiGySRycbLX5VJ9d%2BE5JDqnf6URc%2BFJ5nLN9Vu2xnEOpLAdi18CScu5YPOUVBqYoKoDr6us%2BRKRCOTdsWr9TI%3D&nvMid=32633514521&catId=50001304'"
      ]
     },
     "execution_count": 22,
     "metadata": {},
     "output_type": "execute_result"
    }
   ],
   "source": [
    "search_results_list[4]['link']"
   ]
  },
  {
   "cell_type": "code",
   "execution_count": 23,
   "metadata": {},
   "outputs": [],
   "source": [
    "child_url = search_results_list[4]['link']\n",
    "child_response = req.urlopen(child_url)\n",
    "child_soup = BeautifulSoup(child_response, 'html.parser')"
   ]
  },
  {
   "cell_type": "code",
   "execution_count": 24,
   "metadata": {},
   "outputs": [],
   "source": [
    "# child_soup"
   ]
  },
  {
   "cell_type": "code",
   "execution_count": 25,
   "metadata": {},
   "outputs": [],
   "source": [
    "test = child_soup.select('.productList_value__XRe6h')"
   ]
  },
  {
   "cell_type": "code",
   "execution_count": 26,
   "metadata": {},
   "outputs": [
    {
     "data": {
      "text/plain": [
       "[<a class=\"productList_value__XRe6h\" data-evcr=\"evcr\" data-i=\"84245142072\" data-ms=\"4032069\" data-nclick=\"N=a:prc*l.prc,i:84245142072,r:1\" data-t=\"PROD\" href=\"https://cr.shopping.naver.com/adcr.nhn?x=lPXM531DOCnRNqBdMNXCgf%2F%2F%2Fw%3D%3DsHOuOOHeDBlVQLxD%2Bz0d%2BPQZeqP3hvWtthTDJCZ1uNATOARqrcyYBIVmg7YdxNer8ZURvp%2FOUM%2BXgs6z1n%2FE7iSfPrHVQzIXH2YINE0EHMzvvy6LQTFB%2BVG8eAmpK%2F8S96l0WkbtX1DTgJmj0s1mKRzaSZny%2B1MgSfJG5ocTRQNj1rIvubP2%2F%2BNF2sTRY2hEVz8mL%2FI656zEEV7gMFnmTV00WoC6A786L1PV7hYPW%2BFWrCRdUxvA177jl0VodmokhA4ngWLwD1eOq0sUfCk5av0fWeIBxWhqpKu3zTZkLY9JXuNeT%2FGQdwuYxoyE43DmSngcCo0Epob9PegpwETQWmxZ4EZ6%2BPOZxupyORIl8UrKjYC5DS7Jvji53fKsmwlUr9E1o01N70KHVTV0%2FSKghk16qF7m%2B10BhNsX1C7tcBKKADOQywR%2FGvIuGJPqVxnXOnlL8JzCYxBP4g46Lo%2FlGo7dniEGMWBvG4As4A%2FC4lT6Yxq0aAG5J%2F4d8xbZKqEhKdcL1%2FFer4XyDh1sCxS1MX6yo%2FTxPmVL5GqLEnaFl%2FeiVMMM7dchDnj9ohQXSHXwcAaEbW4Fs%2BU49OFOHC3WkNSV0hZbHqiW%2Fg%2FctbmnUxO4%3D&amp;nvMid=84245142072&amp;catId=50001304\" target=\"_blank\"><span><em>22,740</em>원</span></a>,\n",
       " <a class=\"productList_value__XRe6h\" data-evcr=\"evcr\" data-i=\"84134455922\" data-ms=\"652697\" data-nclick=\"N=a:prc*l.prc,i:84134455922,r:2\" data-t=\"PROD\" href=\"https://cr.shopping.naver.com/adcr.nhn?x=ha%2FcPkvpIgZV1RPgp5tBEP%2F%2F%2Fw%3D%3DspyfyKcvM1FpRgGbK3ZRutTz7X3fNd8olalmh%2BlxccqbUvtcO%2BX3mdUh6r3AuhbhCZ8GgslXwTDtspgRD0QgAdUBhs8I5Hm78M%2Fy9YEmHIP54AHJy4o2SDvW0GEKejx7YGtjvFYmAUFpB1djwf8Ts47uVw3GdaDAvxDSjC3cnt2Z%2F22ms%2BW8TiQQNz%2FOHMMFFmnIr1pX9oMzgUKRWeWUsGXCPr4%2B7yFBLTfQt%2B17tFa5D4P%2Bj2CVvS6QkrpszyaIo1uqkjq3U3bORnpK3uzkyckul0Ds%2Bnrz%2BuMcgXcx%2BiOdYTGYfhMdgYgWN7%2FS4WFaovLF4Ukb2dCdZEKlysEKwIC4aw3NwubPAy%2BLwzVvAIHo8OPj4kysZNdYLt%2FI69jQ2jB5%2BwQwTWqlzZqCmwHkzLzyKu6OcboXQtH%2BG3WOkl0Ts0SLEHUJidladIlDaUjC2p1Fpxjl80XNGbvuUN4JJ4iQ2PVI2jAIfPUEuH%2F9P0riXRrRTP%2Bt1Jd077ujZB%2Bsz3L8CjErXaEFD%2B7th7K3KS869C1ExeQLSjmPXTwsePs6GIZEs69%2FJTl8QJxww9j4q74r316BZZBUi%2BGgQroo1CA%3D%3D&amp;nvMid=84134455922&amp;catId=50001304\" target=\"_blank\"><span><em>22,740</em>원</span></a>]"
      ]
     },
     "execution_count": 26,
     "metadata": {},
     "output_type": "execute_result"
    }
   ],
   "source": [
    "test"
   ]
  },
  {
   "cell_type": "code",
   "execution_count": 67,
   "metadata": {},
   "outputs": [],
   "source": [
    "vendorName_membership = child_soup.select('.productList_mall_link__1-Q4X')"
   ]
  },
  {
   "cell_type": "code",
   "execution_count": 68,
   "metadata": {},
   "outputs": [
    {
     "data": {
      "text/plain": [
       "2"
      ]
     },
     "execution_count": 68,
     "metadata": {},
     "output_type": "execute_result"
    }
   ],
   "source": [
    "len(vendorName_membership)"
   ]
  },
  {
   "cell_type": "code",
   "execution_count": 69,
   "metadata": {},
   "outputs": [
    {
     "name": "stdout",
     "output_type": "stream",
     "text": [
      "로켓공구네이버플러스멤버십\n",
      "판매제왕네이버플러스멤버십\n"
     ]
    }
   ],
   "source": [
    "for i in vendorName_membership:\n",
    "    print(i.text)"
   ]
  },
  {
   "cell_type": "code",
   "execution_count": 42,
   "metadata": {},
   "outputs": [
    {
     "data": {
      "text/plain": [
       "'로켓공구네이버플러스멤버십'"
      ]
     },
     "metadata": {},
     "output_type": "display_data"
    },
    {
     "data": {
      "text/plain": [
       "'판매제왕네이버플러스멤버십'"
      ]
     },
     "metadata": {},
     "output_type": "display_data"
    }
   ],
   "source": [
    "display(vendor.text)\n",
    "display(membership.text)"
   ]
  },
  {
   "cell_type": "code",
   "execution_count": 30,
   "metadata": {},
   "outputs": [],
   "source": [
    "# 배송비 포함 가격 \n",
    "price_with_delivery_fee = child_soup.find('a','productList_value__XRe6h').children"
   ]
  },
  {
   "cell_type": "code",
   "execution_count": 31,
   "metadata": {},
   "outputs": [],
   "source": [
    "a = child_soup.select('.productList_value__XRe6h')"
   ]
  },
  {
   "cell_type": "code",
   "execution_count": 32,
   "metadata": {},
   "outputs": [
    {
     "data": {
      "text/plain": [
       "[<a class=\"productList_value__XRe6h\" data-evcr=\"evcr\" data-i=\"84245142072\" data-ms=\"4032069\" data-nclick=\"N=a:prc*l.prc,i:84245142072,r:1\" data-t=\"PROD\" href=\"https://cr.shopping.naver.com/adcr.nhn?x=lPXM531DOCnRNqBdMNXCgf%2F%2F%2Fw%3D%3DsHOuOOHeDBlVQLxD%2Bz0d%2BPQZeqP3hvWtthTDJCZ1uNATOARqrcyYBIVmg7YdxNer8ZURvp%2FOUM%2BXgs6z1n%2FE7iSfPrHVQzIXH2YINE0EHMzvvy6LQTFB%2BVG8eAmpK%2F8S96l0WkbtX1DTgJmj0s1mKRzaSZny%2B1MgSfJG5ocTRQNj1rIvubP2%2F%2BNF2sTRY2hEVz8mL%2FI656zEEV7gMFnmTV00WoC6A786L1PV7hYPW%2BFWrCRdUxvA177jl0VodmokhA4ngWLwD1eOq0sUfCk5av0fWeIBxWhqpKu3zTZkLY9JXuNeT%2FGQdwuYxoyE43DmSngcCo0Epob9PegpwETQWmxZ4EZ6%2BPOZxupyORIl8UrKjYC5DS7Jvji53fKsmwlUr9E1o01N70KHVTV0%2FSKghk16qF7m%2B10BhNsX1C7tcBKKADOQywR%2FGvIuGJPqVxnXOnlL8JzCYxBP4g46Lo%2FlGo7dniEGMWBvG4As4A%2FC4lT6Yxq0aAG5J%2F4d8xbZKqEhKdcL1%2FFer4XyDh1sCxS1MX6yo%2FTxPmVL5GqLEnaFl%2FeiVMMM7dchDnj9ohQXSHXwcAaEbW4Fs%2BU49OFOHC3WkNSV0hZbHqiW%2Fg%2FctbmnUxO4%3D&amp;nvMid=84245142072&amp;catId=50001304\" target=\"_blank\"><span><em>22,740</em>원</span></a>,\n",
       " <a class=\"productList_value__XRe6h\" data-evcr=\"evcr\" data-i=\"84134455922\" data-ms=\"652697\" data-nclick=\"N=a:prc*l.prc,i:84134455922,r:2\" data-t=\"PROD\" href=\"https://cr.shopping.naver.com/adcr.nhn?x=ha%2FcPkvpIgZV1RPgp5tBEP%2F%2F%2Fw%3D%3DspyfyKcvM1FpRgGbK3ZRutTz7X3fNd8olalmh%2BlxccqbUvtcO%2BX3mdUh6r3AuhbhCZ8GgslXwTDtspgRD0QgAdUBhs8I5Hm78M%2Fy9YEmHIP54AHJy4o2SDvW0GEKejx7YGtjvFYmAUFpB1djwf8Ts47uVw3GdaDAvxDSjC3cnt2Z%2F22ms%2BW8TiQQNz%2FOHMMFFmnIr1pX9oMzgUKRWeWUsGXCPr4%2B7yFBLTfQt%2B17tFa5D4P%2Bj2CVvS6QkrpszyaIo1uqkjq3U3bORnpK3uzkyckul0Ds%2Bnrz%2BuMcgXcx%2BiOdYTGYfhMdgYgWN7%2FS4WFaovLF4Ukb2dCdZEKlysEKwIC4aw3NwubPAy%2BLwzVvAIHo8OPj4kysZNdYLt%2FI69jQ2jB5%2BwQwTWqlzZqCmwHkzLzyKu6OcboXQtH%2BG3WOkl0Ts0SLEHUJidladIlDaUjC2p1Fpxjl80XNGbvuUN4JJ4iQ2PVI2jAIfPUEuH%2F9P0riXRrRTP%2Bt1Jd077ujZB%2Bsz3L8CjErXaEFD%2B7th7K3KS869C1ExeQLSjmPXTwsePs6GIZEs69%2FJTl8QJxww9j4q74r316BZZBUi%2BGgQroo1CA%3D%3D&amp;nvMid=84134455922&amp;catId=50001304\" target=\"_blank\"><span><em>22,740</em>원</span></a>]"
      ]
     },
     "execution_count": 32,
     "metadata": {},
     "output_type": "execute_result"
    }
   ],
   "source": [
    "a"
   ]
  },
  {
   "cell_type": "code",
   "execution_count": 33,
   "metadata": {},
   "outputs": [
    {
     "data": {
      "text/plain": [
       "<list_iterator at 0x1239901c0>"
      ]
     },
     "execution_count": 33,
     "metadata": {},
     "output_type": "execute_result"
    }
   ],
   "source": [
    "price_with_delivery_fee"
   ]
  },
  {
   "cell_type": "code",
   "execution_count": 34,
   "metadata": {},
   "outputs": [
    {
     "name": "stdout",
     "output_type": "stream",
     "text": [
      "22,740원\n"
     ]
    }
   ],
   "source": [
    "for i in price_with_delivery_fee:\n",
    "    print(i.text)"
   ]
  },
  {
   "cell_type": "code",
   "execution_count": 35,
   "metadata": {},
   "outputs": [],
   "source": [
    "# 배송비 미포함 가격 -> 배송비가 무료일수 있다. \n",
    "price_without_delivery_fee = child_soup.find('a', 'productList_low__1Rb_J')\n",
    "delivery_fee = child_soup.find('div', 'productList_delivery__2BusJ').children"
   ]
  },
  {
   "cell_type": "code",
   "execution_count": 36,
   "metadata": {},
   "outputs": [
    {
     "name": "stdout",
     "output_type": "stream",
     "text": [
      "무료배송\n"
     ]
    }
   ],
   "source": [
    "for i in delivery_fee:\n",
    "    print(i.text)"
   ]
  },
  {
   "cell_type": "code",
   "execution_count": 65,
   "metadata": {},
   "outputs": [
    {
     "name": "stderr",
     "output_type": "stream",
     "text": [
      "/var/folders/hg/t_3ps3k16ml5zf5b9hdjjpzw0000gn/T/ipykernel_11047/555977944.py:5: DeprecationWarning: executable_path has been deprecated, please pass in a Service object\n",
      "  driver = webdriver.Chrome(chromeDriver_dir)\n"
     ]
    },
    {
     "name": "stdout",
     "output_type": "stream",
     "text": [
      "<selenium.webdriver.remote.webelement.WebElement (session=\"5d7f84f8b6ba5d29695ded96df0a867b\", element=\"f4d03a76-9ee1-4540-bf07-01a1177a8113\")>\n"
     ]
    }
   ],
   "source": [
    "# selenium\n",
    "chromeDriver_dir = '/Users/bagdaehui/Desktop/chromedriver'\n",
    "options = webdriver.ChromeOptions()\n",
    "options.add_argument('headless')\n",
    "driver = webdriver.Chrome(chromeDriver_dir)\n",
    "url = search_results_list[4]['link']\n",
    "\n",
    "driver.get(url)\n",
    "\n",
    "delivery_fee_btn = driver.find_element(By.XPATH, \n",
    "    '//*[@id=\"section_price\"]/div[2]/div[1]/div[2]/span[1]/a'\n",
    ")\n",
    "delivery_fee_btn.click()\n",
    "\n",
    "result = driver.find_element(By.XPATH,\n",
    "    '//*[@id=\"section_price\"]/div[3]/ul/li[1]/div/div[3]/a/span'\n",
    ")\n",
    "\n",
    "print(result) # 배송비 포함한 가격 \n",
    "\n",
    "# driver.quit() 항상 꺼줘야 한다. "
   ]
  },
  {
   "cell_type": "code",
   "execution_count": 66,
   "metadata": {},
   "outputs": [
    {
     "name": "stdout",
     "output_type": "stream",
     "text": [
      "22,740원\n"
     ]
    }
   ],
   "source": [
    "print(result.text)"
   ]
  },
  {
   "cell_type": "code",
   "execution_count": null,
   "metadata": {},
   "outputs": [],
   "source": []
  }
 ],
 "metadata": {
  "kernelspec": {
   "display_name": "Python 3.10.5 64-bit",
   "language": "python",
   "name": "python3"
  },
  "language_info": {
   "codemirror_mode": {
    "name": "ipython",
    "version": 3
   },
   "file_extension": ".py",
   "mimetype": "text/x-python",
   "name": "python",
   "nbconvert_exporter": "python",
   "pygments_lexer": "ipython3",
   "version": "3.10.5"
  },
  "orig_nbformat": 4,
  "vscode": {
   "interpreter": {
    "hash": "aee8b7b246df8f9039afb4144a1f6fd8d2ca17a180786b69acc140d282b71a49"
   }
  }
 },
 "nbformat": 4,
 "nbformat_minor": 2
}
